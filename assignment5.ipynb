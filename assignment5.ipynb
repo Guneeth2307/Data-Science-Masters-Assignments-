{
 "cells": [
  {
   "cell_type": "markdown",
   "id": "f27c7bf1-a17f-48f3-8ea7-94625b1ba00a",
   "metadata": {},
   "source": [
    "                                              ASSIGNMENT 5"
   ]
  },
  {
   "cell_type": "markdown",
   "id": "b8555d4c-2b2f-4dd1-b363-04e820a03da7",
   "metadata": {},
   "source": [
    "Q1)"
   ]
  },
  {
   "cell_type": "markdown",
   "id": "27ae395f-9b17-4a73-b1fb-962084bfc52b",
   "metadata": {},
   "source": [
    "In object-oriented programming (OOP), classes and objects are fundamental concepts that help organize and structure code in a more modular and manageable way. They are the building blocks of OOP and play a crucial role in creating reusable and maintainable software.\n"
   ]
  },
  {
   "cell_type": "markdown",
   "id": "761b7c32-7575-471b-84e6-fbbcfb582e2f",
   "metadata": {},
   "source": [
    "Class:A class is a blueprint for creating objects in object-oriented programming. It defines the attributes (data) and methods (functions) that the objects will have."
   ]
  },
  {
   "cell_type": "markdown",
   "id": "a74fe7c5-e261-4510-9e82-73ce1ef4526a",
   "metadata": {},
   "source": [
    "Object:An object is an instance of a class. It represents a concrete entity with specific data and behaviors defined by the class."
   ]
  },
  {
   "cell_type": "code",
   "execution_count": 2,
   "id": "6b81348d-7b6f-4204-824f-993e2adc3148",
   "metadata": {},
   "outputs": [],
   "source": [
    "class pwskills:\n",
    "    def welcome_msg(self):\n",
    "        print(\"welcome to pwskills\")"
   ]
  },
  {
   "cell_type": "code",
   "execution_count": 3,
   "id": "e784a641-c7c5-46dc-8c0f-cfe53b4cc46f",
   "metadata": {},
   "outputs": [
    {
     "name": "stdout",
     "output_type": "stream",
     "text": [
      "welcome to pwskills\n"
     ]
    }
   ],
   "source": [
    "rohan=pwskills()\n",
    "rohan.welcome_msg()"
   ]
  },
  {
   "cell_type": "markdown",
   "id": "9901f5f5-ac2a-4909-b6fe-464b41504230",
   "metadata": {},
   "source": [
    "Q2)"
   ]
  },
  {
   "cell_type": "markdown",
   "id": "7d44cc4d-2aa9-4686-8dcd-b81b51f79869",
   "metadata": {},
   "source": [
    "The four pillars of object-oriented programming (OOP) are:\n",
    "\n",
    "1. Encapsulation\n",
    "2. Abstraction\n",
    "3. Inheritance\n",
    "4. Polymorphism"
   ]
  },
  {
   "cell_type": "markdown",
   "id": "85fd4e15-3906-4273-967a-835576c4b868",
   "metadata": {},
   "source": [
    "Q3)"
   ]
  },
  {
   "cell_type": "markdown",
   "id": "a068aa0e-b664-4992-a96b-648b6ead5666",
   "metadata": {},
   "source": [
    "The `__init__()` function is used to set initial values to an object's attributes when it's created from a class. It ensures that objects start with valid data and helps maintain a consistent state."
   ]
  },
  {
   "cell_type": "code",
   "execution_count": 4,
   "id": "9032e02c-ce75-4e2f-94fa-226553d007db",
   "metadata": {},
   "outputs": [],
   "source": [
    "class pwskills1:\n",
    "    def __init__(self, ph, email, roll):\n",
    "        self.phnum = ph\n",
    "        self.emailid = email\n",
    "        self.rollno = roll\n",
    "\n",
    "    def details(self):\n",
    "        print(self.phnum, self.emailid, self.rollno)\n"
   ]
  },
  {
   "cell_type": "code",
   "execution_count": 5,
   "id": "5e15d68a-222c-4bbe-8b2c-eeca4b650bbd",
   "metadata": {},
   "outputs": [
    {
     "name": "stdout",
     "output_type": "stream",
     "text": [
      "233432 rohan@123 34\n"
     ]
    }
   ],
   "source": [
    "rohan=pwskills1(233432,\"rohan@123\",34)\n",
    "rohan.details()"
   ]
  },
  {
   "cell_type": "code",
   "execution_count": 6,
   "id": "35924b85-9154-4a39-8af8-f8ce8280faa3",
   "metadata": {},
   "outputs": [
    {
     "data": {
      "text/plain": [
       "233432"
      ]
     },
     "execution_count": 6,
     "metadata": {},
     "output_type": "execute_result"
    }
   ],
   "source": [
    "rohan.phnum"
   ]
  },
  {
   "cell_type": "code",
   "execution_count": 7,
   "id": "5373ca40-c6e4-4ae0-b85a-a4e1d83fd000",
   "metadata": {},
   "outputs": [
    {
     "data": {
      "text/plain": [
       "'rohan@123'"
      ]
     },
     "execution_count": 7,
     "metadata": {},
     "output_type": "execute_result"
    }
   ],
   "source": [
    "rohan.emailid"
   ]
  },
  {
   "cell_type": "markdown",
   "id": "5ff84e86-09a2-44d2-87c1-c237ab29ad20",
   "metadata": {},
   "source": [
    "Q4)"
   ]
  },
  {
   "cell_type": "markdown",
   "id": "07966cef-383e-4a15-819a-1cf261f8113f",
   "metadata": {},
   "source": [
    "In Object-Oriented Programming (OOP), \"self\" is used to refer to the instance of a class. It helps access and modify instance-specific attributes and methods, making code organized and reusable."
   ]
  },
  {
   "cell_type": "markdown",
   "id": "9aa8ee99-26fc-48ec-b707-60dfdfe232aa",
   "metadata": {},
   "source": [
    "Q5)"
   ]
  },
  {
   "cell_type": "markdown",
   "id": "5910e737-d756-45d1-93b3-cf2f8a28b227",
   "metadata": {},
   "source": [
    "Inheritance is a fundamental concept in Object-Oriented Programming (OOP) where a new class (subclass/derived class) can inherit attributes and behaviors (methods) from an existing class (superclass/base class). It promotes code reuse and hierarchy.\n",
    "\n",
    "Single Inheritance:"
   ]
  },
  {
   "cell_type": "markdown",
   "id": "a79d9d41-eef0-48f5-901f-15d9dcf24e59",
   "metadata": {},
   "source": [
    "A subclass inherits from a single superclass."
   ]
  },
  {
   "cell_type": "code",
   "execution_count": 1,
   "id": "451fd08e-f4dd-4920-a176-c3d57716aca2",
   "metadata": {},
   "outputs": [
    {
     "name": "stdout",
     "output_type": "stream",
     "text": [
      "Woof!\n"
     ]
    }
   ],
   "source": [
    "class Animal:\n",
    "    def speak(self):\n",
    "        pass\n",
    "\n",
    "class Dog(Animal):\n",
    "    def speak(self):\n",
    "        print(\"Woof!\")\n",
    "\n",
    "dog_instance = Dog()\n",
    "dog_instance.speak() \n"
   ]
  },
  {
   "cell_type": "markdown",
   "id": "c282f38c-43d2-490d-9453-77125190d123",
   "metadata": {},
   "source": [
    "Multiple Inheritance:\n",
    "A subclass inherits from multiple superclasses."
   ]
  },
  {
   "cell_type": "code",
   "execution_count": 2,
   "id": "db2942ba-0d1f-4b10-b044-02e42d1f3819",
   "metadata": {},
   "outputs": [],
   "source": [
    "class class1:\n",
    "    def test_case1(self):\n",
    "        print(\"this is my class1\")\n",
    "        "
   ]
  },
  {
   "cell_type": "code",
   "execution_count": 3,
   "id": "c16f44d6-094a-4e77-bf49-8ea19479ce15",
   "metadata": {},
   "outputs": [],
   "source": [
    "class class2:\n",
    "    def test_case2(self):\n",
    "        print(\"this is my class2\")"
   ]
  },
  {
   "cell_type": "code",
   "execution_count": 4,
   "id": "aa02ad4d-8060-4801-bb7d-b7a1bce2b1ad",
   "metadata": {},
   "outputs": [],
   "source": [
    "class class3(class2,class1):\n",
    "    def test_case3(self):\n",
    "        print(\"this is my class3\")"
   ]
  },
  {
   "cell_type": "code",
   "execution_count": 5,
   "id": "ccf935ea-d737-4e12-99fb-0648a85272e7",
   "metadata": {},
   "outputs": [],
   "source": [
    "obj2=class3()"
   ]
  },
  {
   "cell_type": "code",
   "execution_count": 6,
   "id": "a942d2bf-303c-4dca-bdf1-c54a6d94ffae",
   "metadata": {},
   "outputs": [
    {
     "name": "stdout",
     "output_type": "stream",
     "text": [
      "this is my class1\n"
     ]
    }
   ],
   "source": [
    "obj2.test_case1()"
   ]
  },
  {
   "cell_type": "code",
   "execution_count": 7,
   "id": "bee9e34c-227b-47f0-887e-7806ca2bfe57",
   "metadata": {},
   "outputs": [
    {
     "name": "stdout",
     "output_type": "stream",
     "text": [
      "this is my class2\n"
     ]
    }
   ],
   "source": [
    "obj2.test_case2()"
   ]
  },
  {
   "cell_type": "markdown",
   "id": "b16d08d7-751c-44d0-9775-5d78153e59bc",
   "metadata": {},
   "source": [
    "Multilevel Inheritance:\n",
    "A subclass inherits from another subclass, forming a chain."
   ]
  },
  {
   "cell_type": "code",
   "execution_count": 8,
   "id": "03f2e337-702f-4bb8-98a0-a9b9aba72f05",
   "metadata": {},
   "outputs": [],
   "source": [
    "class class1:\n",
    "    def test_case1(self):\n",
    "        print(\"this is my class1\")\n",
    "        "
   ]
  },
  {
   "cell_type": "code",
   "execution_count": 9,
   "id": "3d1f17b7-04d0-4290-9aa1-c37d20099c32",
   "metadata": {},
   "outputs": [],
   "source": [
    "class class2(class1):\n",
    "    def test_case2(self):\n",
    "        print(\"this is my class2\")"
   ]
  },
  {
   "cell_type": "code",
   "execution_count": 10,
   "id": "feab06fc-7549-44c4-9e5e-60a623e24aaa",
   "metadata": {},
   "outputs": [],
   "source": [
    "class class3(class2):\n",
    "    def test_case3(self):\n",
    "        print(\"this is my class3\")"
   ]
  },
  {
   "cell_type": "code",
   "execution_count": 11,
   "id": "d3043c0a-33b3-4dcb-9adb-ae671f7b45ff",
   "metadata": {},
   "outputs": [],
   "source": [
    "obj3=class3()"
   ]
  },
  {
   "cell_type": "code",
   "execution_count": 12,
   "id": "4169e259-4325-4bf6-b34c-d19297e140f1",
   "metadata": {},
   "outputs": [
    {
     "name": "stdout",
     "output_type": "stream",
     "text": [
      "this is my class1\n"
     ]
    }
   ],
   "source": [
    "obj3.test_case1()"
   ]
  },
  {
   "cell_type": "code",
   "execution_count": 13,
   "id": "0bee52f1-a7fe-4470-a37e-6189c59b2ef9",
   "metadata": {},
   "outputs": [
    {
     "name": "stdout",
     "output_type": "stream",
     "text": [
      "this is my class2\n"
     ]
    }
   ],
   "source": [
    "obj3.test_case2()"
   ]
  },
  {
   "cell_type": "markdown",
   "id": "2f5b991f-c654-4e91-8a07-182702830062",
   "metadata": {},
   "source": [
    "Hierarchical Inheritance:\n",
    "Multiple subclasses inherit from a single superclass."
   ]
  },
  {
   "cell_type": "markdown",
   "id": "af364e94-e311-4765-a3e6-1c49814b04d9",
   "metadata": {},
   "source": [
    "class Shape:\n",
    "    def area(self):\n",
    "        pass\n",
    "\n",
    "class Circle(Shape):\n",
    "    def area(self):\n",
    "        pass\n",
    "\n",
    "class Square(Shape):\n",
    "    def area(self):\n",
    "        pass\n",
    "\n",
    "circle_instance = Circle()\n",
    "square_instance = Square()\n"
   ]
  }
 ],
 "metadata": {
  "kernelspec": {
   "display_name": "Python 3 (ipykernel)",
   "language": "python",
   "name": "python3"
  },
  "language_info": {
   "codemirror_mode": {
    "name": "ipython",
    "version": 3
   },
   "file_extension": ".py",
   "mimetype": "text/x-python",
   "name": "python",
   "nbconvert_exporter": "python",
   "pygments_lexer": "ipython3",
   "version": "3.10.8"
  }
 },
 "nbformat": 4,
 "nbformat_minor": 5
}
