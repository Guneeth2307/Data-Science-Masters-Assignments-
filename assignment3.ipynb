{
 "cells": [
  {
   "cell_type": "markdown",
   "id": "d649d6a6-ecdc-4bef-81b6-1e9109bc6ee5",
   "metadata": {},
   "source": [
    "                                                   ASSIGNMENT-3"
   ]
  },
  {
   "cell_type": "markdown",
   "id": "02417137-af80-440d-8b44-469c8e959753",
   "metadata": {},
   "source": [
    "Q1)                                      "
   ]
  },
  {
   "cell_type": "code",
   "execution_count": 4,
   "id": "3af26f94-b02a-44b8-83ac-a98d03cf7eba",
   "metadata": {},
   "outputs": [],
   "source": [
    "t1=[('Sachin Tendulkar', 34357), ('Ricky Ponting', 27483), ('Jack Kallis', 25534), ('Virat Kohli', 24936)]"
   ]
  },
  {
   "cell_type": "code",
   "execution_count": 5,
   "id": "a0ae641d-c76b-49f1-8ee1-f96a0e9aa3f1",
   "metadata": {},
   "outputs": [
    {
     "name": "stdout",
     "output_type": "stream",
     "text": [
      "[('Virat Kohli', 24936), ('Jack Kallis', 25534), ('Ricky Ponting', 27483), ('Sachin Tendulkar', 34357)]\n"
     ]
    }
   ],
   "source": [
    "\n",
    "\n",
    "sorted_t1 = sorted(t1, key=lambda x: x[1])\n",
    "\n",
    "print(sorted_t1)\n"
   ]
  },
  {
   "cell_type": "markdown",
   "id": "c39d9cae-eaab-4c31-977e-6339945d3f15",
   "metadata": {},
   "source": [
    "Q2)"
   ]
  },
  {
   "cell_type": "code",
   "execution_count": 6,
   "id": "d624579b-009e-49e3-a457-16431f025bae",
   "metadata": {},
   "outputs": [],
   "source": [
    "l1=[1, 2, 3, 4, 5, 6, 7, 8, 9, 10]\n"
   ]
  },
  {
   "cell_type": "code",
   "execution_count": 8,
   "id": "84fd5d6e-de66-42cb-b1e9-6da8c5d53998",
   "metadata": {},
   "outputs": [
    {
     "data": {
      "text/plain": [
       "[1, 4, 9, 16, 25, 36, 49, 64, 81, 100]"
      ]
     },
     "execution_count": 8,
     "metadata": {},
     "output_type": "execute_result"
    }
   ],
   "source": [
    "list(map(lambda x:x**2,l1))"
   ]
  },
  {
   "cell_type": "markdown",
   "id": "5989c9e1-99ea-404b-9e1f-398cb3e89d99",
   "metadata": {},
   "source": [
    "Q3)"
   ]
  },
  {
   "cell_type": "code",
   "execution_count": null,
   "id": "16304b4a-eb03-4a3c-9489-530414632aa5",
   "metadata": {},
   "outputs": [],
   "source": [
    "l1=[1, 2, 3, 4, 5, 6, 7, 8, 9, 10]"
   ]
  },
  {
   "cell_type": "code",
   "execution_count": 18,
   "id": "1e298411-7a79-4324-a2bc-20c84452ecf9",
   "metadata": {},
   "outputs": [
    {
     "data": {
      "text/plain": [
       "('1', '2', '3', '4', '5', '6', '7', '8', '9', '10')"
      ]
     },
     "execution_count": 18,
     "metadata": {},
     "output_type": "execute_result"
    }
   ],
   "source": [
    "tuple(map(lambda x : str(x),l1))"
   ]
  },
  {
   "cell_type": "markdown",
   "id": "0b23bd13-013f-423a-8c68-b10f3aa32d7f",
   "metadata": {},
   "source": [
    "Q4)"
   ]
  },
  {
   "cell_type": "code",
   "execution_count": 23,
   "id": "e7a04702-e69b-4fd6-a677-619e7fbb457d",
   "metadata": {},
   "outputs": [],
   "source": [
    "l1=[1,2,3,4,5,6,7,8,9,10,11,12,13,14,15,16,17,18,19,20,21,22,23,24,25]"
   ]
  },
  {
   "cell_type": "code",
   "execution_count": 26,
   "id": "f71db9cd-85a6-4bdc-98fc-e96cc15d3df0",
   "metadata": {},
   "outputs": [],
   "source": [
    "from functools import reduce"
   ]
  },
  {
   "cell_type": "code",
   "execution_count": 28,
   "id": "c9d31ae7-c6e8-4784-a5d2-f46aa3d399ab",
   "metadata": {},
   "outputs": [
    {
     "data": {
      "text/plain": [
       "15511210043330985984000000"
      ]
     },
     "execution_count": 28,
     "metadata": {},
     "output_type": "execute_result"
    }
   ],
   "source": [
    "reduce(lambda x,y:x*y,l1)"
   ]
  },
  {
   "cell_type": "markdown",
   "id": "1e86a988-3b75-4559-93be-7390ddfe5e5f",
   "metadata": {},
   "source": [
    "Q5)"
   ]
  },
  {
   "cell_type": "code",
   "execution_count": 30,
   "id": "4699cc4e-8424-46ef-9a89-5ca30d9ebdc0",
   "metadata": {},
   "outputs": [],
   "source": [
    "l1=[2, 3, 6, 9, 27, 60, 90, 120, 55, 46]"
   ]
  },
  {
   "cell_type": "code",
   "execution_count": 31,
   "id": "b3d38e0d-c9a1-45da-9f55-b3e1e42f2aee",
   "metadata": {},
   "outputs": [
    {
     "data": {
      "text/plain": [
       "[6, 60, 90, 120]"
      ]
     },
     "execution_count": 31,
     "metadata": {},
     "output_type": "execute_result"
    }
   ],
   "source": [
    "list(filter(lambda x:x%2 == 0 and x%3==0,l1))"
   ]
  },
  {
   "cell_type": "markdown",
   "id": "c77b817e-7d54-480c-b53d-0445410e055f",
   "metadata": {},
   "source": [
    "Q6)"
   ]
  },
  {
   "cell_type": "code",
   "execution_count": 34,
   "id": "e75bddb4-fa27-4924-9466-b0a40247532f",
   "metadata": {},
   "outputs": [],
   "source": [
    "l1=['python', 'php', 'aba', 'radar', 'level']"
   ]
  },
  {
   "cell_type": "code",
   "execution_count": 37,
   "id": "fc833023-b234-407a-922d-d642d8e0da42",
   "metadata": {},
   "outputs": [
    {
     "data": {
      "text/plain": [
       "['php', 'aba', 'radar', 'level']"
      ]
     },
     "execution_count": 37,
     "metadata": {},
     "output_type": "execute_result"
    }
   ],
   "source": [
    "list(filter(lambda x : x == x[::-1],l1))"
   ]
  },
  {
   "cell_type": "code",
   "execution_count": null,
   "id": "9f04d991-ab76-4adf-b1e5-4b50af24377d",
   "metadata": {},
   "outputs": [],
   "source": []
  }
 ],
 "metadata": {
  "kernelspec": {
   "display_name": "Python 3 (ipykernel)",
   "language": "python",
   "name": "python3"
  },
  "language_info": {
   "codemirror_mode": {
    "name": "ipython",
    "version": 3
   },
   "file_extension": ".py",
   "mimetype": "text/x-python",
   "name": "python",
   "nbconvert_exporter": "python",
   "pygments_lexer": "ipython3",
   "version": "3.10.8"
  }
 },
 "nbformat": 4,
 "nbformat_minor": 5
}
