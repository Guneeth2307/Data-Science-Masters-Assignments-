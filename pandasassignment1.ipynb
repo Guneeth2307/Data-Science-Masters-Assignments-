{
 "cells": [
  {
   "cell_type": "markdown",
   "id": "a1175616-696a-4ae4-84b9-197af1bc1bd8",
   "metadata": {},
   "source": [
    "                                          Pandas Assignment-1"
   ]
  },
  {
   "cell_type": "markdown",
   "id": "9417b250-03fe-4ad3-ad5a-29de5b1509f2",
   "metadata": {},
   "source": [
    "Q1)"
   ]
  },
  {
   "cell_type": "code",
   "execution_count": 1,
   "id": "f17a2157-6c7f-45f4-9275-bc5eac7211d8",
   "metadata": {},
   "outputs": [
    {
     "data": {
      "text/plain": [
       "0     4\n",
       "1     8\n",
       "2    15\n",
       "3    16\n",
       "4    23\n",
       "5    42\n",
       "dtype: int64"
      ]
     },
     "execution_count": 1,
     "metadata": {},
     "output_type": "execute_result"
    }
   ],
   "source": [
    "import pandas as pd\n",
    "\n",
    "data = [4, 8, 15, 16, 23, 42]\n",
    "pd.Series(data)"
   ]
  },
  {
   "cell_type": "markdown",
   "id": "52b6a284-db46-4f21-8e37-0df12f52d668",
   "metadata": {},
   "source": [
    "Q2)"
   ]
  },
  {
   "cell_type": "code",
   "execution_count": 3,
   "id": "47343241-7e90-4a9a-82bf-f8a959dae904",
   "metadata": {},
   "outputs": [
    {
     "data": {
      "text/plain": [
       "0     10\n",
       "1     20\n",
       "2     30\n",
       "3     40\n",
       "4     50\n",
       "5     60\n",
       "6     70\n",
       "7     80\n",
       "8     90\n",
       "9    100\n",
       "dtype: int64"
      ]
     },
     "execution_count": 3,
     "metadata": {},
     "output_type": "execute_result"
    }
   ],
   "source": [
    "\n",
    "\n",
    "my_list = [10, 20, 30, 40, 50, 60, 70, 80, 90, 100]\n",
    "pd.Series(my_list)\n"
   ]
  },
  {
   "cell_type": "markdown",
   "id": "ff3fefeb-8f5f-4fb4-a54c-f5859d6c56fe",
   "metadata": {},
   "source": [
    "Q3)"
   ]
  },
  {
   "cell_type": "code",
   "execution_count": 4,
   "id": "2e63f9da-dca5-48ce-b621-ddbe68b0d370",
   "metadata": {},
   "outputs": [],
   "source": [
    "data = {\n",
    "    'Name': ['Alice', 'Bob', 'Claire'],\n",
    "    'Age': [25, 30, 27],\n",
    "    'Gender': ['Female', 'Male', 'Female']\n",
    "}\n",
    "\n",
    "df = pd.DataFrame(data)"
   ]
  },
  {
   "cell_type": "code",
   "execution_count": 5,
   "id": "4f57f2f8-6f7c-4f52-8775-4318835f89d8",
   "metadata": {},
   "outputs": [
    {
     "data": {
      "text/html": [
       "<div>\n",
       "<style scoped>\n",
       "    .dataframe tbody tr th:only-of-type {\n",
       "        vertical-align: middle;\n",
       "    }\n",
       "\n",
       "    .dataframe tbody tr th {\n",
       "        vertical-align: top;\n",
       "    }\n",
       "\n",
       "    .dataframe thead th {\n",
       "        text-align: right;\n",
       "    }\n",
       "</style>\n",
       "<table border=\"1\" class=\"dataframe\">\n",
       "  <thead>\n",
       "    <tr style=\"text-align: right;\">\n",
       "      <th></th>\n",
       "      <th>Name</th>\n",
       "      <th>Age</th>\n",
       "      <th>Gender</th>\n",
       "    </tr>\n",
       "  </thead>\n",
       "  <tbody>\n",
       "    <tr>\n",
       "      <th>0</th>\n",
       "      <td>Alice</td>\n",
       "      <td>25</td>\n",
       "      <td>Female</td>\n",
       "    </tr>\n",
       "    <tr>\n",
       "      <th>1</th>\n",
       "      <td>Bob</td>\n",
       "      <td>30</td>\n",
       "      <td>Male</td>\n",
       "    </tr>\n",
       "    <tr>\n",
       "      <th>2</th>\n",
       "      <td>Claire</td>\n",
       "      <td>27</td>\n",
       "      <td>Female</td>\n",
       "    </tr>\n",
       "  </tbody>\n",
       "</table>\n",
       "</div>"
      ],
      "text/plain": [
       "     Name  Age  Gender\n",
       "0   Alice   25  Female\n",
       "1     Bob   30    Male\n",
       "2  Claire   27  Female"
      ]
     },
     "execution_count": 5,
     "metadata": {},
     "output_type": "execute_result"
    }
   ],
   "source": [
    "df"
   ]
  },
  {
   "cell_type": "markdown",
   "id": "02241fb8-37f0-4952-a210-b0682db2bdbb",
   "metadata": {},
   "source": [
    "Q4)"
   ]
  },
  {
   "cell_type": "markdown",
   "id": "a663fa16-357c-45fc-8097-d3c9f895abd2",
   "metadata": {},
   "source": [
    "A DataFrame in Pandas is a two-dimensional, size-mutable, and heterogeneous tabular data structure with labeled axes (rows and columns). It is similar to a spreadsheet or a SQL table. DataFrames are one of the primary data structures in Pandas and are used for data analysis and manipulation.\n",
    "\n",
    "A Pandas Series, on the other hand, is a one-dimensional labeled array that is used to store data of the same data type. It can be thought of as a single column in a DataFrame"
   ]
  },
  {
   "cell_type": "code",
   "execution_count": 1,
   "id": "29e70860-2337-4429-be35-5a0a6c57a569",
   "metadata": {},
   "outputs": [
    {
     "name": "stdout",
     "output_type": "stream",
     "text": [
      "Pandas Series:\n",
      "0    10\n",
      "1    20\n",
      "2    30\n",
      "3    40\n",
      "4    50\n",
      "Name: MySeries, dtype: int64\n",
      "\n",
      "\n",
      "Pandas DataFrame:\n",
      "   MySeries\n",
      "0        10\n",
      "1        20\n",
      "2        30\n",
      "3        40\n",
      "4        50\n"
     ]
    }
   ],
   "source": [
    "import pandas as pd\n",
    "\n",
    "# Creating a Pandas Series\n",
    "series_data = [10, 20, 30, 40, 50]\n",
    "series = pd.Series(series_data, name='MySeries')\n",
    "\n",
    "# Creating a Pandas DataFrame with the same data\n",
    "data = {\n",
    "    'MySeries': [10, 20, 30, 40, 50]\n",
    "}\n",
    "df = pd.DataFrame(data)\n",
    "\n",
    "print(\"Pandas Series:\")\n",
    "print(series)\n",
    "\n",
    "print(\"\\n\\nPandas DataFrame:\")\n",
    "print(df)\n"
   ]
  },
  {
   "cell_type": "markdown",
   "id": "6ac600c2-177c-489f-a889-eac109684a19",
   "metadata": {},
   "source": [
    "Q5)"
   ]
  },
  {
   "cell_type": "markdown",
   "id": "791f4727-6e8f-48eb-9f4c-04c6c5004d4a",
   "metadata": {},
   "source": [
    "There are numerous common functions and methods available in Pandas for manipulating data in a DataFrame. Here are some of the most commonly used functions and methods, along with examples of when you might use them:\n",
    "\n",
    "1. **`head()` and `tail()`**:\n",
    "   - Use `head(n)` to display the first `n` rows of the DataFrame.\n",
    "   - Use `tail(n)` to display the last `n` rows of the DataFrame.\n",
    "   ```python\n",
    "   df.head(3)  # Display the first 3 rows of the DataFrame\n",
    "   df.tail(2)  # Display the last 2 rows of the DataFrame\n",
    "   ```\n",
    "\n",
    "2. **`describe()`**:\n",
    "   - Use `describe()` to generate summary statistics of the DataFrame's numeric columns.\n",
    "   ```python\n",
    "   df.describe()  # Generate summary statistics for numeric columns\n",
    "   ```\n",
    "\n",
    "3. **`groupby()`**:\n",
    "   - Use `groupby()` to group and aggregate data based on one or more columns.\n",
    "   ```python\n",
    "   grouped = df.groupby('Gender')\n",
    "   grouped['Age'].mean()  # Calculate the mean age for each gender\n",
    "   ```\n",
    "\n",
    "4. **`sort_values()`**:\n",
    "   - Use `sort_values()` to sort the DataFrame by one or more columns.\n",
    "   ```python\n",
    "   df.sort_values(by='Age', ascending=False)  # Sort by age in descending order\n",
    "   ```\n",
    "\n",
    "5. **`filter()`**:\n",
    "   - Use `filter()` to select a subset of columns based on column names or criteria.\n",
    "   ```python\n",
    "   df.filter(items=['Name', 'Age'])  # Select only the 'Name' and 'Age' columns\n",
    "   ```\n",
    "\n",
    "6. **`loc[]` and `iloc[]`**:\n",
    "   - Use `loc[]` for label-based indexing and `iloc[]` for integer-based indexing to access specific rows and columns.\n",
    "   ```python\n",
    "   df.loc[1, 'Name']  # Access the 'Name' column of the row with label 1\n",
    "   df.iloc[0:2, 0:2]  # Access the first two rows and first two columns\n",
    "   ```\n",
    "\n",
    "7. **`drop()`**:\n",
    "   - Use `drop()` to remove rows or columns from the DataFrame.\n",
    "   ```python\n",
    "   df.drop(0)  # Remove the row with index 0\n",
    "   df.drop(columns=['Gender'])  # Remove the 'Gender' column\n",
    "   ```\n",
    "\n",
    "8. **`apply()`**:\n",
    "   - Use `apply()` to apply a function to rows or columns.\n",
    "   ```python\n",
    "   df['Age_Squared'] = df['Age'].apply(lambda x: x**2)  # Create a new column with the age squared\n",
    "   ```\n",
    "\n",
    "9. **`pivot_table()`**:\n",
    "   - Use `pivot_table()` to create summary tables based on columns.\n",
    "   ```python\n",
    "   pd.pivot_table(df, values='Age', index='Gender', columns='Name', aggfunc='mean')  # Create a pivot table\n",
    "   ```\n",
    "\n",
    "These are just a few examples of the many functions and methods available in Pandas for data manipulation. The choice of function depends on the specific data manipulation task you need to perform."
   ]
  },
  {
   "cell_type": "markdown",
   "id": "5e3899e8-fed5-4c09-8886-a1a7cf64236f",
   "metadata": {},
   "source": [
    "Q6)"
   ]
  },
  {
   "cell_type": "markdown",
   "id": "9b0918ff-0c24-4c84-ae42-1fa6ce3a509f",
   "metadata": {},
   "source": [
    "In Pandas, both Series and DataFrame are mutable in nature, whereas the Panel data structure has been removed in recent versions of Pandas and is no longer available. \n",
    "\n",
    "This means you can modify the contents, add or remove data, and change values in both Series and DataFrames after they have been created. They are designed to be flexible and allow for various data manipulation operations."
   ]
  },
  {
   "cell_type": "markdown",
   "id": "900cb6b1-2da1-4f6e-af20-859dbe96e984",
   "metadata": {},
   "source": [
    "Q7)"
   ]
  },
  {
   "cell_type": "code",
   "execution_count": null,
   "id": "2af1b8c9-2f49-4092-9d26-71bec8ff95e3",
   "metadata": {},
   "outputs": [],
   "source": []
  }
 ],
 "metadata": {
  "kernelspec": {
   "display_name": "Python 3 (ipykernel)",
   "language": "python",
   "name": "python3"
  },
  "language_info": {
   "codemirror_mode": {
    "name": "ipython",
    "version": 3
   },
   "file_extension": ".py",
   "mimetype": "text/x-python",
   "name": "python",
   "nbconvert_exporter": "python",
   "pygments_lexer": "ipython3",
   "version": "3.10.8"
  }
 },
 "nbformat": 4,
 "nbformat_minor": 5
}
