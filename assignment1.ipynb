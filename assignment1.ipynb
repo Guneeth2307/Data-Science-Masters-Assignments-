{
 "cells": [
  {
   "cell_type": "code",
   "execution_count": null,
   "id": "fbf61ec3-163a-4192-9b74-56d697553e2e",
   "metadata": {},
   "outputs": [],
   "source": [
    "Assignment 1"
   ]
  },
  {
   "cell_type": "markdown",
   "id": "6a603198-8e96-4750-8e52-553f49cd63ac",
   "metadata": {},
   "source": [
    "Q1)"
   ]
  },
  {
   "cell_type": "markdown",
   "id": "19baeb2f-0c44-47b7-8e41-7f0b6806f741",
   "metadata": {},
   "source": [
    "(i)"
   ]
  },
  {
   "cell_type": "code",
   "execution_count": 1,
   "id": "f3a849cf-533b-4d64-98c7-4a6734022575",
   "metadata": {},
   "outputs": [],
   "source": [
    "a=\"arjun\"\n"
   ]
  },
  {
   "cell_type": "code",
   "execution_count": 4,
   "id": "8b5673ae-5917-4b9b-981e-715189f7d32c",
   "metadata": {},
   "outputs": [
    {
     "data": {
      "text/plain": [
       "str"
      ]
     },
     "execution_count": 4,
     "metadata": {},
     "output_type": "execute_result"
    }
   ],
   "source": [
    "type(a)"
   ]
  },
  {
   "cell_type": "markdown",
   "id": "fc38b430-288c-4db7-9b20-ab1ab8f2edbf",
   "metadata": {},
   "source": [
    "(ii)"
   ]
  },
  {
   "cell_type": "code",
   "execution_count": 6,
   "id": "fa8da2cf-e1ba-4ee2-bfa0-0fef80cc907c",
   "metadata": {},
   "outputs": [
    {
     "data": {
      "text/plain": [
       "list"
      ]
     },
     "execution_count": 6,
     "metadata": {},
     "output_type": "execute_result"
    }
   ],
   "source": [
    "b = [1,2,3,\"ram\"]\n",
    "type(b)"
   ]
  },
  {
   "cell_type": "code",
   "execution_count": 8,
   "id": "7582d869-6819-4901-8930-49e18098eea3",
   "metadata": {},
   "outputs": [
    {
     "data": {
      "text/plain": [
       "float"
      ]
     },
     "execution_count": 8,
     "metadata": {},
     "output_type": "execute_result"
    }
   ],
   "source": [
    "c=5.32\n",
    "type(c)"
   ]
  },
  {
   "cell_type": "code",
   "execution_count": 9,
   "id": "6b32255e-fe8c-4526-afe7-84840420d479",
   "metadata": {},
   "outputs": [
    {
     "data": {
      "text/plain": [
       "tuple"
      ]
     },
     "execution_count": 9,
     "metadata": {},
     "output_type": "execute_result"
    }
   ],
   "source": [
    "d=(1,2,3,\"lakman\",\"sita\")\n",
    "type(d)"
   ]
  },
  {
   "cell_type": "markdown",
   "id": "b64de15c-6f0e-4af9-a1e8-b1d7a1fb20d8",
   "metadata": {},
   "source": [
    "Q2)"
   ]
  },
  {
   "cell_type": "code",
   "execution_count": null,
   "id": "7be43d13-e2d3-4fb2-a5c9-739b055b2685",
   "metadata": {},
   "outputs": [],
   "source": [
    "# i) ' ' datatype is str\n",
    "# ii)‘[ DS , ML , Python]’ it has incorrect synthax\n",
    "# iii) [ ‘DS’ , ’ML’ , ‘Python’ ] its datatype is list\n",
    "# iv) 1 datatype is int"
   ]
  },
  {
   "cell_type": "markdown",
   "id": "d45f0bae-2ec8-40bc-8dfd-c4733e240468",
   "metadata": {},
   "source": [
    "Q3)"
   ]
  },
  {
   "cell_type": "code",
   "execution_count": null,
   "id": "5e549b4c-e8a0-470e-8cb3-b22566163fd9",
   "metadata": {},
   "outputs": [],
   "source": [
    "#i) / is used for division\n",
    "#ii) % is used for mod value\n",
    "#iii) // is used to find  floor value\n",
    "#iv) ** is used to find power"
   ]
  },
  {
   "cell_type": "markdown",
   "id": "aaf229ea-78c1-437d-96af-b32cc0b595fa",
   "metadata": {},
   "source": [
    "Q4)"
   ]
  },
  {
   "cell_type": "code",
   "execution_count": 20,
   "id": "b0ca384a-0c6c-4cf6-92eb-beb1de8165d0",
   "metadata": {},
   "outputs": [
    {
     "name": "stdout",
     "output_type": "stream",
     "text": [
      "1 <class 'int'>\n",
      "2.3 <class 'float'>\n",
      "5 <class 'int'>\n",
      "6.7 <class 'float'>\n",
      "8 <class 'int'>\n",
      "ram <class 'str'>\n",
      "7 <class 'int'>\n",
      "kr <class 'str'>\n",
      "23 <class 'int'>\n",
      "rahul <class 'str'>\n"
     ]
    }
   ],
   "source": [
    "list1=[1,2.3,5,6.7,8,\"ram\",7,\"kr\",23,\"rahul\"]\n",
    "for i in list1:\n",
    "    print(i,type(i))"
   ]
  },
  {
   "cell_type": "markdown",
   "id": "5b4038f4-44f4-4241-b8c3-a04159e029a9",
   "metadata": {},
   "source": [
    "Q5)"
   ]
  },
  {
   "cell_type": "code",
   "execution_count": 26,
   "id": "61cc683b-ef30-4fc1-8c91-1ac2b612d88a",
   "metadata": {},
   "outputs": [
    {
     "name": "stdin",
     "output_type": "stream",
     "text": [
      " 4\n",
      " 2\n"
     ]
    },
    {
     "name": "stdout",
     "output_type": "stream",
     "text": [
      "4 is divisible by 2, it can be divided 2 times\n"
     ]
    }
   ],
   "source": [
    "a = int(input())\n",
    "b = int(input())\n",
    "count = 0\n",
    "c = 0\n",
    "d=a\n",
    "e=b\n",
    "while a % b == 0:\n",
    "    if a % b == 0:\n",
    "        c += 1\n",
    "    a = a // b\n",
    "    count += 1\n",
    "\n",
    "if c >= 1:\n",
    "    print(f\"{d} is divisible by {e}, it can be divided {count} times\")\n",
    "else:\n",
    "    print(f\"{d} is not divisible by {e}\")\n"
   ]
  },
  {
   "cell_type": "code",
   "execution_count": 27,
   "id": "93e4a51a-ebf5-42eb-914e-a588ab7574f2",
   "metadata": {},
   "outputs": [
    {
     "name": "stdout",
     "output_type": "stream",
     "text": [
      "1 is not divisible by 3\n",
      "2 is not divisible by 3\n",
      "3 is divisible by 3\n",
      "4 is not divisible by 3\n",
      "5 is not divisible by 3\n",
      "6 is divisible by 3\n",
      "7 is not divisible by 3\n",
      "8 is not divisible by 3\n",
      "9 is divisible by 3\n",
      "10 is not divisible by 3\n",
      "11 is not divisible by 3\n",
      "12 is divisible by 3\n",
      "13 is not divisible by 3\n",
      "14 is not divisible by 3\n",
      "15 is divisible by 3\n",
      "16 is not divisible by 3\n",
      "17 is not divisible by 3\n",
      "18 is divisible by 3\n",
      "19 is not divisible by 3\n",
      "20 is not divisible by 3\n",
      "21 is divisible by 3\n",
      "22 is not divisible by 3\n",
      "23 is not divisible by 3\n",
      "24 is divisible by 3\n",
      "25 is not divisible by 3\n"
     ]
    }
   ],
   "source": [
    "list2=[1,2,3,4,5,6,7,8,9,10,11,12,13,14,15,16,17,18,19,20,21,22,23,24,25]\n",
    "for i in list2:\n",
    "    if i%3 == 0:\n",
    "        print(f\"{i} is divisible by 3\")\n",
    "    else:\n",
    "        print(f\"{i} is not divisible by 3\")"
   ]
  },
  {
   "cell_type": "markdown",
   "id": "613007fd-50de-4624-887a-cfff1c844aef",
   "metadata": {},
   "source": [
    "Q7)"
   ]
  },
  {
   "cell_type": "code",
   "execution_count": null,
   "id": "a0bf7822-b9ac-4646-866f-b3f6a3837999",
   "metadata": {},
   "outputs": [],
   "source": [
    "Mutable data types are those that allow their content to be changed after they are created. \n",
    "ex:Lists,Dictionaries,Sets\n"
   ]
  }
 ],
 "metadata": {
  "kernelspec": {
   "display_name": "Python 3 (ipykernel)",
   "language": "python",
   "name": "python3"
  },
  "language_info": {
   "codemirror_mode": {
    "name": "ipython",
    "version": 3
   },
   "file_extension": ".py",
   "mimetype": "text/x-python",
   "name": "python",
   "nbconvert_exporter": "python",
   "pygments_lexer": "ipython3",
   "version": "3.10.8"
  }
 },
 "nbformat": 4,
 "nbformat_minor": 5
}
