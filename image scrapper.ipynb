{
 "cells": [
  {
   "cell_type": "markdown",
   "id": "a2df84bc-fbf8-4bf5-afc3-fc21440f2d31",
   "metadata": {},
   "source": [
    "                                                      ASSIGNMENT-17"
   ]
  },
  {
   "cell_type": "markdown",
   "id": "92a33136-fe6b-49e8-89cf-1c30247c671f",
   "metadata": {},
   "source": [
    "Q1)"
   ]
  },
  {
   "cell_type": "code",
   "execution_count": 1,
   "id": "c2e23994-ce7a-4d13-a420-f0c624a6017a",
   "metadata": {},
   "outputs": [],
   "source": [
    "import requests\n",
    "from bs4 import BeautifulSoup\n",
    "from urllib.request import urlopen\n",
    "import logging\n",
    "import os "
   ]
  },
  {
   "cell_type": "code",
   "execution_count": 2,
   "id": "6265cb13-9403-4c5a-9cfd-63c5f12de2f8",
   "metadata": {},
   "outputs": [],
   "source": [
    "save_dir = \"videos/\"\n",
    "if not os.path.exists(save_dir):\n",
    "    os.makedirs(save_dir)"
   ]
  },
  {
   "cell_type": "code",
   "execution_count": null,
   "id": "cae880d9-a7bc-49a7-a157-5d8284a43c14",
   "metadata": {},
   "outputs": [],
   "source": [
    "headers = {\"User-Agent\": \"Mozilla/5.0 (Windows NT 10.0; Win64; x64) AppleWebKit/537.36 (KHTML, like Gecko) Chrome/58.0.3029.110 Safari/537.36\"}"
   ]
  },
  {
   "cell_type": "code",
   "execution_count": 3,
   "id": "9ee7f7b1-f4ed-42a0-b377-21035ed62c6d",
   "metadata": {},
   "outputs": [],
   "source": [
    "channel_url = \"https://www.youtube.com/@PW-Foundation/videos\"\n"
   ]
  },
  {
   "cell_type": "code",
   "execution_count": 4,
   "id": "f8053754-c4b5-4eb1-b207-750e82cefd4b",
   "metadata": {},
   "outputs": [],
   "source": [
    "response = requests.get(channel_url)\n"
   ]
  },
  {
   "cell_type": "code",
   "execution_count": 5,
   "id": "d05d8427-f65a-4730-9c73-371c502529bd",
   "metadata": {},
   "outputs": [
    {
     "data": {
      "text/plain": [
       "<Response [200]>"
      ]
     },
     "execution_count": 5,
     "metadata": {},
     "output_type": "execute_result"
    }
   ],
   "source": [
    "response"
   ]
  },
  {
   "cell_type": "code",
   "execution_count": 6,
   "id": "d39a38bd-899e-4329-94e4-ff0b9dff63a7",
   "metadata": {},
   "outputs": [],
   "source": [
    " soup = BeautifulSoup(response.text, \"html.parser\")\n"
   ]
  },
  {
   "cell_type": "code",
   "execution_count": 14,
   "id": "ba4fda94-5349-41f3-86ea-c28ea99b5024",
   "metadata": {},
   "outputs": [],
   "source": [
    "video_links = soup.find_all(\"a\", class_=\"video-title\");"
   ]
  },
  {
   "cell_type": "code",
   "execution_count": 15,
   "id": "e7243bba-3f85-4c41-9c1f-af75db50e5e0",
   "metadata": {},
   "outputs": [],
   "source": [
    "for i, link in enumerate(video_links[:5]):\n",
    "        video_url = \"https://www.youtube.com\" + link[\"href\"]\n",
    "        print(f\"Video {i+1}: {video_url}\")"
   ]
  },
  {
   "cell_type": "markdown",
   "id": "6b21539a-0113-4fdf-b8d5-2f63ea7f9831",
   "metadata": {},
   "source": [
    "Q2)"
   ]
  },
  {
   "cell_type": "code",
   "execution_count": 16,
   "id": "0ffe9175-8037-4efd-a3bf-5ab4013c1483",
   "metadata": {},
   "outputs": [],
   "source": [
    "thumbnail_elements = soup.find_all(\"img\", {\"alt\": \"Thumbnail\"})"
   ]
  },
  {
   "cell_type": "code",
   "execution_count": 17,
   "id": "b3e3e6c1-b315-4ffe-aaa2-cf1f4c227206",
   "metadata": {},
   "outputs": [],
   "source": [
    "for i, thumbnail in enumerate(thumbnail_elements[:5]):\n",
    "        thumbnail_url = thumbnail[\"src\"]\n",
    "        print(f\"Thumbnail {i+1}: {thumbnail_url}\")\n"
   ]
  },
  {
   "cell_type": "markdown",
   "id": "d74b0a6d-5321-4604-8eee-31735de5c7ab",
   "metadata": {},
   "source": [
    "Q3)"
   ]
  },
  {
   "cell_type": "code",
   "execution_count": 18,
   "id": "e90038e8-4f6b-4f81-bb21-911f686c2628",
   "metadata": {},
   "outputs": [],
   "source": [
    "title_elements = soup.find_all(\"a\", {\"id\": \"video-title\"})"
   ]
  },
  {
   "cell_type": "code",
   "execution_count": 19,
   "id": "bedf50e6-d96f-47fb-986c-e7d8a7494643",
   "metadata": {},
   "outputs": [],
   "source": [
    "for i, title in enumerate(title_elements[:5]):\n",
    "        video_title = title.text\n",
    "        print(f\"Video {i+1} Title: {video_title}\")\n"
   ]
  },
  {
   "cell_type": "markdown",
   "id": "02b44b69-6468-4ae7-ab56-9be404e178f5",
   "metadata": {},
   "source": [
    "Q4)"
   ]
  },
  {
   "cell_type": "code",
   "execution_count": 20,
   "id": "a1dafbfb-8446-4666-b949-1d90d18bbd0a",
   "metadata": {},
   "outputs": [],
   "source": [
    "view_count_elements = soup.find_all(\"span\", {\"class\": \"style-scope ytd-grid-video-renderer\"})\n"
   ]
  },
  {
   "cell_type": "code",
   "execution_count": 22,
   "id": "005f6194-2e33-4b8e-bec8-723c482c5319",
   "metadata": {},
   "outputs": [],
   "source": [
    "for i, view_count in enumerate(view_count_elements[:5]):\n",
    "        if \"views\" in view_count.text:\n",
    "            print(f\"Video {i+1} Views: {view_count.text.strip()}\")\n"
   ]
  },
  {
   "cell_type": "markdown",
   "id": "7fd1902a-9e5f-4f09-ac66-e904234cee0d",
   "metadata": {},
   "source": [
    "Q5)"
   ]
  },
  {
   "cell_type": "code",
   "execution_count": 23,
   "id": "1e5e467d-095f-4a2f-a884-0dbf6142a758",
   "metadata": {},
   "outputs": [],
   "source": [
    "time_elements = soup.find_all(\"div\", {\"class\": \"style-scope ytd-grid-video-renderer\"})\n"
   ]
  },
  {
   "cell_type": "code",
   "execution_count": 24,
   "id": "088e92f0-3635-4ee6-bd85-73c806a11395",
   "metadata": {},
   "outputs": [],
   "source": [
    "for i, time_element in enumerate(time_elements[:5]):\n",
    "        if \"ago\" in time_element.text:\n",
    "            print(f\"Video {i+1} Time of Posting: {time_element.text.strip()}\")"
   ]
  },
  {
   "cell_type": "code",
   "execution_count": null,
   "id": "4677d503-e844-412e-86ec-730878f2b13a",
   "metadata": {},
   "outputs": [],
   "source": []
  }
 ],
 "metadata": {
  "kernelspec": {
   "display_name": "Python 3 (ipykernel)",
   "language": "python",
   "name": "python3"
  },
  "language_info": {
   "codemirror_mode": {
    "name": "ipython",
    "version": 3
   },
   "file_extension": ".py",
   "mimetype": "text/x-python",
   "name": "python",
   "nbconvert_exporter": "python",
   "pygments_lexer": "ipython3",
   "version": "3.10.8"
  }
 },
 "nbformat": 4,
 "nbformat_minor": 5
}
