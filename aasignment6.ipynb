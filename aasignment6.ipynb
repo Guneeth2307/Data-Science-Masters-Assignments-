{
 "cells": [
  {
   "cell_type": "markdown",
   "id": "77b59131-44ac-4a2e-a974-27c8afe50245",
   "metadata": {},
   "source": [
    "                                             ASSIGNMENT-6"
   ]
  },
  {
   "cell_type": "markdown",
   "id": "8a43c2c2-abe1-450a-8820-5994d0a964c3",
   "metadata": {},
   "source": [
    "Q1)"
   ]
  },
  {
   "cell_type": "code",
   "execution_count": 8,
   "id": "b053e85d-b3fd-4659-bd14-5227668ec7ce",
   "metadata": {},
   "outputs": [],
   "source": [
    "class vehicle:\n",
    "    def __init__(self,name_of_vehicle, max_speed,average_of_vehicle):\n",
    "        self.name_of_vehicle=name_of_vehicle\n",
    "        self.max_speed=max_speed\n",
    "        self.average_of_vehicle=average_of_vehicle\n",
    "        \n",
    "        \n",
    "    "
   ]
  },
  {
   "cell_type": "code",
   "execution_count": 9,
   "id": "cbebb511-8100-4055-a7c9-c9ae4cf85729",
   "metadata": {},
   "outputs": [],
   "source": [
    "vehicleobj=vehicle(\"benz\",120,80)"
   ]
  },
  {
   "cell_type": "code",
   "execution_count": 10,
   "id": "9260bd62-67fc-4fe7-9101-3ec46a292c38",
   "metadata": {},
   "outputs": [
    {
     "data": {
      "text/plain": [
       "80"
      ]
     },
     "execution_count": 10,
     "metadata": {},
     "output_type": "execute_result"
    }
   ],
   "source": [
    "vehicleobj.average_of_vehicle"
   ]
  },
  {
   "cell_type": "code",
   "execution_count": 11,
   "id": "fd58cbb5-9e58-4bad-b973-ef9a46f7160c",
   "metadata": {},
   "outputs": [
    {
     "data": {
      "text/plain": [
       "120"
      ]
     },
     "execution_count": 11,
     "metadata": {},
     "output_type": "execute_result"
    }
   ],
   "source": [
    "vehicleobj.max_speed"
   ]
  },
  {
   "cell_type": "code",
   "execution_count": 12,
   "id": "44173162-39e9-41c3-9d58-29510bf2fdbd",
   "metadata": {},
   "outputs": [
    {
     "data": {
      "text/plain": [
       "'benz'"
      ]
     },
     "execution_count": 12,
     "metadata": {},
     "output_type": "execute_result"
    }
   ],
   "source": [
    "vehicleobj.name_of_vehicle"
   ]
  },
  {
   "cell_type": "markdown",
   "id": "017423ef-b7fb-485b-a3f0-87f440d65edc",
   "metadata": {},
   "source": [
    "Q2)"
   ]
  },
  {
   "cell_type": "code",
   "execution_count": 42,
   "id": "bdf68ffa-6441-409c-988e-fa20a70be641",
   "metadata": {},
   "outputs": [
    {
     "name": "stdout",
     "output_type": "stream",
     "text": [
      "Sedan manufactured in 2022 has a seating capacity of 5 people.\n"
     ]
    }
   ],
   "source": [
    "class Vehicle:\n",
    "    def __init__(self, name_of_vehicle, max_speed, average_of_vehicle):\n",
    "        self.name_of_vehicle = name_of_vehicle\n",
    "        self.max_speed = max_speed\n",
    "        self.average_of_vehicle = average_of_vehicle\n",
    "\n",
    "class Car(Vehicle):\n",
    "    def __init__(self, name_of_vehicle, max_speed, average_of_vehicle, manufacture_date):\n",
    "        self.name_of_vehicle = name_of_vehicle\n",
    "        self.max_speed = max_speed\n",
    "        self.average_of_vehicle = average_of_vehicle\n",
    "        self.manufacture_date = manufacture_date\n",
    "\n",
    "    def seating_capacity(self, capacity):\n",
    "        return f\"{self.name_of_vehicle} manufactured in {self.manufacture_date} has a seating capacity of {capacity} people.\"\n",
    "\n",
    "car_instance = Car(\"Sedan\", 180, 60, 2022)\n",
    "\n",
    "capacity_result = car_instance.seating_capacity(5)\n",
    "print(capacity_result)\n"
   ]
  },
  {
   "cell_type": "markdown",
   "id": "69d856c2-9faf-41fc-a6b6-d8b2cea2077e",
   "metadata": {},
   "source": [
    "Q3)\n",
    "\n",
    "\n",
    "\n",
    "    "
   ]
  },
  {
   "cell_type": "markdown",
   "id": "404c2514-0c3c-4acb-a70d-d26a7ab93d1e",
   "metadata": {},
   "source": [
    "Multiple Inheritance: A subclass inherits from multiple superclasses."
   ]
  },
  {
   "cell_type": "code",
   "execution_count": 43,
   "id": "74ba948b-d8b4-4c3b-9beb-56d2c48f2d29",
   "metadata": {},
   "outputs": [],
   "source": [
    "class class1:\n",
    "    def test_case1(self):\n",
    "        print(\"this is my class1\")\n",
    "        "
   ]
  },
  {
   "cell_type": "code",
   "execution_count": 44,
   "id": "ed78e8fc-9b8c-40e3-b156-19df2476acc2",
   "metadata": {},
   "outputs": [],
   "source": [
    "class class2:\n",
    "    def test_case2(self):\n",
    "        print(\"this is my class2\")"
   ]
  },
  {
   "cell_type": "code",
   "execution_count": 45,
   "id": "e79816bd-6016-4051-8da3-24d5431b239e",
   "metadata": {},
   "outputs": [],
   "source": [
    "class class3(class2,class1):\n",
    "    def test_case3(self):\n",
    "        print(\"this is my class3\")"
   ]
  },
  {
   "cell_type": "code",
   "execution_count": 46,
   "id": "9df86866-226f-43e9-89f6-c2c511a0ab12",
   "metadata": {},
   "outputs": [],
   "source": [
    "obj2=class3()"
   ]
  },
  {
   "cell_type": "code",
   "execution_count": 47,
   "id": "eab8bd60-42c3-4a9e-8501-e032aba58047",
   "metadata": {},
   "outputs": [
    {
     "name": "stdout",
     "output_type": "stream",
     "text": [
      "this is my class1\n"
     ]
    }
   ],
   "source": [
    "obj2.test_case1()"
   ]
  },
  {
   "cell_type": "code",
   "execution_count": 48,
   "id": "2fa845e0-5171-4aad-88d6-a032b64cfbfe",
   "metadata": {},
   "outputs": [
    {
     "name": "stdout",
     "output_type": "stream",
     "text": [
      "this is my class2\n"
     ]
    }
   ],
   "source": [
    "obj2.test_case2()"
   ]
  },
  {
   "cell_type": "markdown",
   "id": "7a1c8445-ced3-467d-97dc-15bde879acbd",
   "metadata": {},
   "source": [
    "Q4)"
   ]
  },
  {
   "cell_type": "markdown",
   "id": "eb3d6e1c-4444-4d42-add0-a9fb67f793ff",
   "metadata": {},
   "source": [
    "In Python, getters and setters are methods that allow controlled access to class attributes (instance variables). They provide a way to retrieve (get) or modify (set) the values of private attributes while enforcing some logic or validation if needed."
   ]
  },
  {
   "cell_type": "code",
   "execution_count": 49,
   "id": "78450d09-8934-4c42-aa8f-e62c225bc9d5",
   "metadata": {},
   "outputs": [],
   "source": [
    "class PwSkills:\n",
    "    def __init__(self, courseprice, coursename):\n",
    "        self.__coursep_rice = courseprice\n",
    "        self.course_name = coursename\n",
    "\n",
    "    @property\n",
    "    def coursepriceacc(self):\n",
    "        return self.__coursep_rice\n",
    "\n",
    "    @coursepriceacc.setter\n",
    "    def coursepriceacc(self, price):\n",
    "        if price <= 3500:\n",
    "            pass\n",
    "        else:\n",
    "            self.__coursep_rice = price\n",
    "\n",
    "    \n",
    "\n"
   ]
  },
  {
   "cell_type": "code",
   "execution_count": 50,
   "id": "fe392a50-2217-4f44-bc0a-90c47cf255db",
   "metadata": {},
   "outputs": [
    {
     "name": "stdout",
     "output_type": "stream",
     "text": [
      "Course Price: 3000\n"
     ]
    }
   ],
   "source": [
    "course_instance = PwSkills(3000, \"Python Programming\")\n",
    "\n",
    "\n",
    "print(\"Course Price:\", course_instance.coursepriceacc)\n"
   ]
  },
  {
   "cell_type": "markdown",
   "id": "94442af9-9582-4246-ad39-d07dca1e7176",
   "metadata": {},
   "source": [
    "Q5)"
   ]
  },
  {
   "cell_type": "markdown",
   "id": "6a37e83c-633b-4c73-b8f1-ee8ca4b73952",
   "metadata": {},
   "source": [
    "Method overriding in Python is a concept in object-oriented programming where a subclass provides a specific implementation for a method that is already defined in its parent class. The overridden method in the subclass has the same name and parameters as the method in the parent class, but it provides a different behavior."
   ]
  },
  {
   "cell_type": "code",
   "execution_count": 51,
   "id": "52c37716-3659-40ed-8cbb-513d2b71f4fa",
   "metadata": {},
   "outputs": [
    {
     "name": "stdout",
     "output_type": "stream",
     "text": [
      "Dog: Woof!\n",
      "Cat: Meow!\n"
     ]
    }
   ],
   "source": [
    "class Animal:\n",
    "    def make_sound(self):\n",
    "        pass\n",
    "\n",
    "class Dog(Animal):\n",
    "    def make_sound(self):\n",
    "        return \"Woof!\"\n",
    "\n",
    "class Cat(Animal):\n",
    "    def make_sound(self):\n",
    "        return \"Meow!\"\n",
    "\n",
    "dog_instance = Dog()\n",
    "cat_instance = Cat()\n",
    "\n",
    "print(\"Dog:\", dog_instance.make_sound())  \n",
    "print(\"Cat:\", cat_instance.make_sound()) \n"
   ]
  },
  {
   "cell_type": "code",
   "execution_count": null,
   "id": "4e6f3c06-56aa-4301-a5e1-7fc8ad02396b",
   "metadata": {},
   "outputs": [],
   "source": []
  }
 ],
 "metadata": {
  "kernelspec": {
   "display_name": "Python 3 (ipykernel)",
   "language": "python",
   "name": "python3"
  },
  "language_info": {
   "codemirror_mode": {
    "name": "ipython",
    "version": 3
   },
   "file_extension": ".py",
   "mimetype": "text/x-python",
   "name": "python",
   "nbconvert_exporter": "python",
   "pygments_lexer": "ipython3",
   "version": "3.10.8"
  }
 },
 "nbformat": 4,
 "nbformat_minor": 5
}
