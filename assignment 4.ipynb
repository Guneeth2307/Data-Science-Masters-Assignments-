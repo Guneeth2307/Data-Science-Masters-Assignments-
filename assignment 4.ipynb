{
 "cells": [
  {
   "cell_type": "markdown",
   "id": "37df3492-9aff-4752-88ab-9f37e48edeff",
   "metadata": {},
   "source": [
    "                                                     ASSIGNMENT 4"
   ]
  },
  {
   "cell_type": "markdown",
   "id": "aa12a94c-129c-47fe-afa4-001db9321e3a",
   "metadata": {},
   "source": [
    "Q1)"
   ]
  },
  {
   "cell_type": "markdown",
   "id": "b8f0974d-3e22-4af9-95f9-7583043cc029",
   "metadata": {},
   "source": [
    "def is the  keyword used to create a function"
   ]
  },
  {
   "cell_type": "code",
   "execution_count": 1,
   "id": "95063ca5-0a83-4b19-b4e3-735f9463b3f5",
   "metadata": {},
   "outputs": [],
   "source": [
    "def test1(a):\n",
    "    for i in range(a):\n",
    "        if i%2 != 0:\n",
    "            yield i"
   ]
  },
  {
   "cell_type": "code",
   "execution_count": 4,
   "id": "679ec38e-503b-49be-a973-82fabfc8ac50",
   "metadata": {},
   "outputs": [
    {
     "name": "stdout",
     "output_type": "stream",
     "text": [
      "1\n",
      "3\n",
      "5\n",
      "7\n",
      "9\n",
      "11\n",
      "13\n",
      "15\n",
      "17\n",
      "19\n",
      "21\n",
      "23\n",
      "25\n"
     ]
    }
   ],
   "source": [
    "for i in test1(26):\n",
    "    print(i)"
   ]
  },
  {
   "cell_type": "markdown",
   "id": "c43312be-b2eb-47cd-88b0-e0eef246c4ef",
   "metadata": {},
   "source": [
    "Q2)"
   ]
  },
  {
   "cell_type": "markdown",
   "id": "d2cba90c-7ca3-4c9d-be9b-d5fdd32df6f7",
   "metadata": {},
   "source": [
    "*args is used when you want to pass multiple values to a function without specifying the exact number of values beforehand.\n",
    "**kwargs is used when you want to pass named values to a function without knowing the exact number of values in advance."
   ]
  },
  {
   "cell_type": "code",
   "execution_count": 13,
   "id": "98e63c8c-0a0e-4a4c-90bd-94137f441b03",
   "metadata": {},
   "outputs": [],
   "source": [
    "def test1(*args):\n",
    "    result = 0\n",
    "    for i in args:\n",
    "        result =result +  i\n",
    "    return result"
   ]
  },
  {
   "cell_type": "code",
   "execution_count": 14,
   "id": "fe392e09-7406-42d7-92ee-8d0a24e7636a",
   "metadata": {},
   "outputs": [
    {
     "data": {
      "text/plain": [
       "28"
      ]
     },
     "execution_count": 14,
     "metadata": {},
     "output_type": "execute_result"
    }
   ],
   "source": [
    "test1(1,2,3,4,5,6,7)"
   ]
  },
  {
   "cell_type": "code",
   "execution_count": 15,
   "id": "bd4fe247-e2e4-4fb9-bebd-995c0700bc77",
   "metadata": {},
   "outputs": [],
   "source": [
    "def test4(**arg):\n",
    "    return arg"
   ]
  },
  {
   "cell_type": "code",
   "execution_count": 16,
   "id": "5ccad243-ef6c-44d6-9bff-53220d7658fd",
   "metadata": {},
   "outputs": [
    {
     "data": {
      "text/plain": [
       "{'a': 4, 'b': 'satya', 'c': 32, 'd': 'arjun', 'e': [1, 2, 34]}"
      ]
     },
     "execution_count": 16,
     "metadata": {},
     "output_type": "execute_result"
    }
   ],
   "source": [
    "test4(a=4,b=\"satya\",c=32,d=\"arjun\",e=[1,2,34])"
   ]
  },
  {
   "cell_type": "markdown",
   "id": "1b6142f8-34dc-41d5-8f1f-6bbe1846372a",
   "metadata": {},
   "source": [
    "Q3)"
   ]
  },
  {
   "cell_type": "code",
   "execution_count": 17,
   "id": "e9375df4-ff64-4ad3-b4c2-0af51860029e",
   "metadata": {},
   "outputs": [
    {
     "name": "stdout",
     "output_type": "stream",
     "text": [
      "2\n",
      "4\n",
      "6\n",
      "8\n",
      "10\n"
     ]
    }
   ],
   "source": [
    "my_list = [2, 4, 6, 8, 10, 12, 14, 16, 18, 20]\n",
    "iterator = iter(my_list)\n",
    "\n",
    "for _ in range(5):\n",
    "    element = next(iterator)\n",
    "    print(element)\n"
   ]
  },
  {
   "cell_type": "markdown",
   "id": "6395ae41-ad32-4ca6-94f6-df66af6b8ef4",
   "metadata": {},
   "source": [
    "In Python, an iterator is an object that allows you to traverse through a sequence of elements one at a time. It helps manage access to the elements of a collection without needing to know the internal structure.\n",
    "\n",
    "To work with an iterator:\n",
    "\n",
    "Initialization: Use the iter() function to create an iterator object from an iterable (like a list).\n",
    "\n",
    "Iteration: Use the next() function to retrieve the next element from the iterator."
   ]
  },
  {
   "cell_type": "markdown",
   "id": "6e926d3f-6e7c-4e87-9cdd-9636138c221c",
   "metadata": {},
   "source": [
    "Q4)"
   ]
  },
  {
   "cell_type": "markdown",
   "id": "2892703a-5764-4606-89a7-c611d19bd8d1",
   "metadata": {},
   "source": [
    "In Python, a generator function is a special type of function that allows you to create iterators using the yield keyword. Instead of returning a value with return, a generator function produces a sequence of values using yield during each iteration.\n",
    "The yield keyword is used within a generator function to temporarily pause the function's execution, save its internal state, and yield a value to the caller."
   ]
  },
  {
   "cell_type": "code",
   "execution_count": 18,
   "id": "1ab7e2ae-3ccd-4fda-8c23-ced55f583633",
   "metadata": {},
   "outputs": [
    {
     "name": "stdout",
     "output_type": "stream",
     "text": [
      "0\n",
      "1\n",
      "4\n",
      "9\n",
      "16\n"
     ]
    }
   ],
   "source": [
    "def square(n):\n",
    "    for i in range(n):\n",
    "        yield i ** 2\n",
    "\n",
    "for i in square(5):\n",
    "    print(i)\n"
   ]
  },
  {
   "cell_type": "markdown",
   "id": "dfe83265-b01a-470f-9233-7764d574fab4",
   "metadata": {},
   "source": [
    "Q5)"
   ]
  },
  {
   "cell_type": "code",
   "execution_count": 14,
   "id": "745c1b1d-e669-449f-9a72-5d6ef562bac9",
   "metadata": {},
   "outputs": [],
   "source": [
    "\n",
    "\n",
    "\n"
   ]
  },
  {
   "cell_type": "code",
   "execution_count": 18,
   "id": "c0425814-0147-4412-8ea3-ad18d13d8f5e",
   "metadata": {},
   "outputs": [
    {
     "name": "stdout",
     "output_type": "stream",
     "text": [
      "2\n",
      "3\n",
      "5\n",
      "7\n",
      "11\n",
      "13\n",
      "17\n",
      "19\n",
      "23\n",
      "29\n",
      "31\n",
      "37\n",
      "41\n",
      "43\n",
      "47\n",
      "53\n",
      "59\n",
      "61\n",
      "67\n",
      "71\n"
     ]
    }
   ],
   "source": [
    "def is_prime(num):\n",
    "    if num <= 1:\n",
    "        return False\n",
    "    if num <= 3:\n",
    "        return True\n",
    "    if num % 2 == 0 or num % 3 == 0:\n",
    "        return False\n",
    "    i = 5\n",
    "    while i * i <= num:\n",
    "        if num % i == 0 or num % (i + 2) == 0:\n",
    "            return False\n",
    "        i += 6\n",
    "    return True\n",
    "\n",
    "def prime_generator(limit):\n",
    "    num = 2\n",
    "    count = 0\n",
    "    while count < limit:\n",
    "        if is_prime(num):\n",
    "            yield num\n",
    "            count += 1\n",
    "        num += 1\n",
    "\n",
    "\n",
    "primes = prime_generator(20)\n",
    "\n",
    "for _ in range(20):\n",
    "    prime = next(primes)\n",
    "    print(prime)\n"
   ]
  },
  {
   "cell_type": "code",
   "execution_count": null,
   "id": "e0464a07-09c0-4dc7-903a-f09ede087858",
   "metadata": {},
   "outputs": [],
   "source": []
  }
 ],
 "metadata": {
  "kernelspec": {
   "display_name": "Python 3 (ipykernel)",
   "language": "python",
   "name": "python3"
  },
  "language_info": {
   "codemirror_mode": {
    "name": "ipython",
    "version": 3
   },
   "file_extension": ".py",
   "mimetype": "text/x-python",
   "name": "python",
   "nbconvert_exporter": "python",
   "pygments_lexer": "ipython3",
   "version": "3.10.8"
  }
 },
 "nbformat": 4,
 "nbformat_minor": 5
}
