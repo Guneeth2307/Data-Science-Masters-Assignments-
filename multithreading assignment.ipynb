{
 "cells": [
  {
   "cell_type": "markdown",
   "id": "de6c1ac2-bc39-42c3-846a-d6779cc7ef70",
   "metadata": {},
   "source": [
    "                                                ASSIGNMENT-9"
   ]
  },
  {
   "cell_type": "markdown",
   "id": "b5b3e3a3-0547-4fef-bb13-76df280a7cd8",
   "metadata": {},
   "source": [
    "Q1)"
   ]
  },
  {
   "cell_type": "markdown",
   "id": "e74ace4c-207f-4408-9b23-e7137e39d22d",
   "metadata": {},
   "source": [
    "Multithreading in Python refers to the concurrent execution of multiple threads within a single process. Threads are lightweight units of execution that share the same memory space. Multithreading is used to improve concurrency, responsiveness, and resource utilization in programs.\n",
    "\n",
    "The primary module used to handle threads in Python is the `threading` module. It provides tools for creating, managing, and synchronizing threads."
   ]
  },
  {
   "cell_type": "markdown",
   "id": "7684a62e-3dac-499f-9041-730f4b6e6b2a",
   "metadata": {},
   "source": [
    "Q2)"
   ]
  },
  {
   "cell_type": "markdown",
   "id": "9e2c8982-a1d7-40fa-bdfe-1196415a994e",
   "metadata": {},
   "source": [
    "The threading module in Python is used for managing threads within a program. It allows you to create and control multiple threads of execution, which can run concurrently in the same process.\n",
    "\n",
    "- **activeCount()**: This function returns the count of currently running threads, helping you keep track of how many threads are active at a given time.\n",
    "\n",
    "- **currentThread()**: This function gives you a reference to the thread that's currently executing the function call. It's a way to identify and work with the currently running thread.\n",
    "\n",
    "- **enumerate()**: This function provides a list of all active Thread objects. It's useful for inspecting or managing threads, especially when you need to keep track of multiple running threads.\n"
   ]
  },
  {
   "cell_type": "markdown",
   "id": "89ab31c7-497b-4ced-ba97-ba0d8dfa732b",
   "metadata": {},
   "source": [
    "Q3)"
   ]
  },
  {
   "cell_type": "markdown",
   "id": "4851a49a-da46-44b3-ac5c-4fa4c387ad57",
   "metadata": {},
   "source": [
    "Certainly, here's a concise explanation of each function:\n",
    "\n",
    "1. **run()**: Method defining the task a thread performs. Subclass `Thread` and override `run()` for custom logic.\n",
    "\n",
    "2. **start()**: Initiates thread execution asynchronously by calling its `run()` method.\n",
    "\n",
    "3. **join()**: Blocks the calling thread until the target thread completes execution.\n",
    "\n",
    "4. **isAlive()**: Checks if a thread is currently active (running). Returns `True` if running, `False` if not."
   ]
  },
  {
   "cell_type": "markdown",
   "id": "af977726-2a1e-4695-8535-bd7cb149265d",
   "metadata": {},
   "source": [
    "Q4)"
   ]
  },
  {
   "cell_type": "code",
   "execution_count": 4,
   "id": "cc1428ae-d3bf-4c1d-8638-c9940daeb138",
   "metadata": {},
   "outputs": [],
   "source": [
    "import threading"
   ]
  },
  {
   "cell_type": "code",
   "execution_count": 9,
   "id": "b19cd8e4-527f-4624-9dab-158681d9696f",
   "metadata": {},
   "outputs": [],
   "source": [
    "def test(x):\n",
    "    print(x**2)"
   ]
  },
  {
   "cell_type": "code",
   "execution_count": 10,
   "id": "eca006b9-d8d3-4531-8c06-4ab01639632e",
   "metadata": {},
   "outputs": [],
   "source": [
    "y=[threading.Thread(target=test,args=(i,)) for i in  [23,46,32] ]"
   ]
  },
  {
   "cell_type": "code",
   "execution_count": 11,
   "id": "55136f44-37cc-4bf4-b89b-4de0dee2c70d",
   "metadata": {},
   "outputs": [
    {
     "name": "stdout",
     "output_type": "stream",
     "text": [
      "529\n",
      "2116\n",
      "1024\n"
     ]
    }
   ],
   "source": [
    "for i in y:\n",
    "    i.start()\n",
    "    "
   ]
  },
  {
   "cell_type": "code",
   "execution_count": 14,
   "id": "44f24c5e-3d1f-4027-b671-bf9caa567890",
   "metadata": {},
   "outputs": [],
   "source": [
    "def test1(x):\n",
    "    print(x**3)"
   ]
  },
  {
   "cell_type": "code",
   "execution_count": 15,
   "id": "aef3758f-ee28-4507-bd3f-0584a2a431bc",
   "metadata": {},
   "outputs": [],
   "source": [
    "z=[threading.Thread(target=test1,args=(i,)) for i in  [23,46,32] ]"
   ]
  },
  {
   "cell_type": "code",
   "execution_count": 17,
   "id": "13197c30-0625-4a96-8da8-256f97595848",
   "metadata": {},
   "outputs": [
    {
     "name": "stdout",
     "output_type": "stream",
     "text": [
      "12167\n",
      "97336\n",
      "32768\n"
     ]
    }
   ],
   "source": [
    "for i in z:\n",
    "    i.start()\n",
    "    "
   ]
  },
  {
   "cell_type": "markdown",
   "id": "3df9e34e-3084-41c2-b826-941dd0a9923d",
   "metadata": {},
   "source": [
    "Q5)"
   ]
  },
  {
   "cell_type": "markdown",
   "id": "2088a113-bb46-4253-a674-f1f4b2c6d59a",
   "metadata": {},
   "source": [
    "**Advantages:** Efficient multitasking, better responsiveness, resource sharing, I/O handling, parallelism.\n",
    "\n",
    "**Disadvantages:** Complexity, race conditions, deadlocks, overhead, debugging difficulty, scalability issues, compatibility constraints."
   ]
  },
  {
   "cell_type": "markdown",
   "id": "5e4b4478-5e22-4ba2-9093-c5542e4ca195",
   "metadata": {},
   "source": [
    "Q6)"
   ]
  },
  {
   "cell_type": "markdown",
   "id": "50a670d4-fc4a-420f-bef6-afd168155289",
   "metadata": {},
   "source": [
    "**Deadlocks:** Threads get stuck because each is waiting for a resource that another holds, causing a program standstill.\n",
    "\n",
    "**Race Conditions:** Multiple threads accessing shared data simultaneously without proper synchronization can lead to unpredictable and incorrect outcomes."
   ]
  },
  {
   "cell_type": "code",
   "execution_count": null,
   "id": "a07481f1-2f77-4e8f-add4-1f7b2d7f38fa",
   "metadata": {},
   "outputs": [],
   "source": []
  }
 ],
 "metadata": {
  "kernelspec": {
   "display_name": "Python 3 (ipykernel)",
   "language": "python",
   "name": "python3"
  },
  "language_info": {
   "codemirror_mode": {
    "name": "ipython",
    "version": 3
   },
   "file_extension": ".py",
   "mimetype": "text/x-python",
   "name": "python",
   "nbconvert_exporter": "python",
   "pygments_lexer": "ipython3",
   "version": "3.10.8"
  }
 },
 "nbformat": 4,
 "nbformat_minor": 5
}
