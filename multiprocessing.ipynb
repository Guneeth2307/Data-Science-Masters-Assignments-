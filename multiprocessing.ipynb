{
 "cells": [
  {
   "cell_type": "markdown",
   "id": "e529a46f-7cea-4510-83ca-825e96b52f68",
   "metadata": {},
   "source": [
    "                                              # ASSIGNMENT-10"
   ]
  },
  {
   "cell_type": "markdown",
   "id": "8835fbfa-0318-4700-bb5a-65b92d20920f",
   "metadata": {},
   "source": [
    "Q1)"
   ]
  },
  {
   "cell_type": "markdown",
   "id": "f2e9ef8b-665e-4590-97d6-87cf4b6dce6b",
   "metadata": {},
   "source": [
    "Multiprocessing in Python enables running multiple independent processes simultaneously, utilizing multiple CPU cores. It improves performance for tasks that require heavy computation by distributing the work across cores, enhancing efficiency."
   ]
  },
  {
   "cell_type": "markdown",
   "id": "babf159a-58ab-44c8-9cfc-c729a83e18e2",
   "metadata": {},
   "source": [
    "Q2)"
   ]
  },
  {
   "cell_type": "markdown",
   "id": "7ec371f4-5662-47d4-901f-dee2cc357195",
   "metadata": {},
   "source": [
    "Multiprocessing runs separate processes for true parallelism, suitable for CPU-heavy tasks, but with higher memory usage. Multithreading uses threads within a process, better for I/O tasks, but constrained by the GIL for CPU tasks and lower memory usage."
   ]
  },
  {
   "cell_type": "markdown",
   "id": "cf616c87-1385-4f64-9651-28b0306e8f44",
   "metadata": {},
   "source": [
    "Q3)"
   ]
  },
  {
   "cell_type": "code",
   "execution_count": 1,
   "id": "49addf5c-7b41-4781-a8b2-84837e1aef52",
   "metadata": {},
   "outputs": [
    {
     "name": "stdout",
     "output_type": "stream",
     "text": [
      "Worker process executing.\n",
      "Main process finished.\n"
     ]
    }
   ],
   "source": [
    "import multiprocessing\n",
    "\n",
    "def worker_function():\n",
    "    print(\"Worker process executing.\")\n",
    "\n",
    "if __name__ == \"__main__\":\n",
    "    \n",
    "    worker_process = multiprocessing.Process(target=worker_function)\n",
    "    \n",
    "\n",
    "    worker_process.start()\n",
    "    \n",
    "    \n",
    "    worker_process.join()\n",
    "    \n",
    "    print(\"Main process finished.\")\n"
   ]
  },
  {
   "cell_type": "markdown",
   "id": "15481b33-340a-4c0e-a8da-3ef97e579158",
   "metadata": {},
   "source": [
    "Q4)"
   ]
  },
  {
   "cell_type": "markdown",
   "id": "80e697dd-4080-4d3c-9da0-59f64a6912ca",
   "metadata": {},
   "source": [
    "A multiprocessing pool in Python is a way to manage a group of worker processes for parallel execution of tasks. It's used to efficiently utilize multiple CPU cores by automatically distributing tasks among processes, aiding in faster execution of workloads that can be divided."
   ]
  },
  {
   "cell_type": "markdown",
   "id": "7d153f27-64a2-4ea1-8f3d-23809583a11f",
   "metadata": {},
   "source": [
    "Q5)"
   ]
  },
  {
   "cell_type": "markdown",
   "id": "d45361c8-23e0-4824-a648-462278f3efb5",
   "metadata": {},
   "source": [
    "To create a pool of worker processes using the `multiprocessing` module in Python:\n",
    "\n",
    "1. Import the `multiprocessing` module.\n",
    "2. Define the function that workers will execute.\n",
    "3. Create a list of tasks you want to process.\n",
    "4. Create a `Pool` using `multiprocessing.Pool(processes=num_processes)`.\n",
    "5. Use the `map()` function on the pool to distribute tasks to workers.\n",
    "6. Collect the results.\n",
    "7. The `with` block ensures proper cleanup of resources after tasks are done.\n",
    "\n",
    "This enables efficient parallel processing of tasks using multiple processes."
   ]
  },
  {
   "cell_type": "markdown",
   "id": "d66bf6fd-a8d6-462c-a3bf-af2e3322928c",
   "metadata": {},
   "source": [
    "Q6)"
   ]
  },
  {
   "cell_type": "code",
   "execution_count": 2,
   "id": "b11ca2b5-9b1c-4637-a949-0d492e22491e",
   "metadata": {},
   "outputs": [
    {
     "name": "stdout",
     "output_type": "stream",
     "text": [
      "Results: [2, 4, 6, 8, 10]\n"
     ]
    }
   ],
   "source": [
    "import multiprocessing\n",
    "\n",
    "def worker_function(task):\n",
    "    result = task * 2\n",
    "    return result\n",
    "\n",
    "if __name__ == \"__main__\":\n",
    "    tasks = [1, 2, 3, 4, 5]  \n",
    "    \n",
    "    \n",
    "    with multiprocessing.Pool(processes=4) as pool:  \n",
    "        results = pool.map(worker_function, tasks)  \n",
    "        \n",
    "    print(\"Results:\", results)\n"
   ]
  },
  {
   "cell_type": "code",
   "execution_count": null,
   "id": "f9d0b8ed-c6d7-4070-a0fb-39a239c8fb2b",
   "metadata": {},
   "outputs": [],
   "source": []
  }
 ],
 "metadata": {
  "kernelspec": {
   "display_name": "Python 3 (ipykernel)",
   "language": "python",
   "name": "python3"
  },
  "language_info": {
   "codemirror_mode": {
    "name": "ipython",
    "version": 3
   },
   "file_extension": ".py",
   "mimetype": "text/x-python",
   "name": "python",
   "nbconvert_exporter": "python",
   "pygments_lexer": "ipython3",
   "version": "3.10.8"
  }
 },
 "nbformat": 4,
 "nbformat_minor": 5
}
