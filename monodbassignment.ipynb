{
 "cells": [
  {
   "cell_type": "markdown",
   "id": "bd3d0ec2-137f-415b-95b3-5201484894ef",
   "metadata": {},
   "source": [
    "                                         ASSIGNMENT-12\n",
    "    "
   ]
  },
  {
   "cell_type": "markdown",
   "id": "1aa97858-76e3-4ca7-9d3f-9dcd60a85daf",
   "metadata": {},
   "source": [
    "Q1)"
   ]
  },
  {
   "cell_type": "markdown",
   "id": "d4716218-819c-495d-8710-c344e1bd5465",
   "metadata": {},
   "source": [
    "MongoDB is a widely used open-source NoSQL database that stores data in a flexible, JSON-like format called BSON. It's designed to handle unstructured or semi-structured data and offers high scalability and performance for applications with dynamic data needs.\n",
    "\n",
    "Non-relational databases (NoSQL) are database systems that diverge from traditional relational databases (SQL) in terms of data storage and retrieval. They are suitable for scenarios where data structures are fluid, diverse, or require rapid scalability."
   ]
  },
  {
   "cell_type": "markdown",
   "id": "7f8db389-c660-417a-92c5-dd182838d6c1",
   "metadata": {},
   "source": [
    "MongoDB is preferred over SQL databases in scenarios requiring flexible data structures (changing requirements, unstructured data), scalability (large datasets, high traffic), and agility (quick iterations, real-time analytics), like agile development, IoT, and content management. SQL databases excel in scenarios demanding complex transactions and strong relationships. The choice depends on data model and use case."
   ]
  },
  {
   "cell_type": "markdown",
   "id": "ed83dd33-ad7f-4def-b2ed-4bcc1fdf4d49",
   "metadata": {},
   "source": [
    "Q2)"
   ]
  },
  {
   "cell_type": "markdown",
   "id": "85dd8e17-6dbe-46e1-8a15-3819ca1b5c74",
   "metadata": {},
   "source": [
    "\n",
    "\n",
    "1. **Flexible Document Model**: MongoDB stores data in adaptable, JSON-like documents (BSON), allowing easy handling of diverse and evolving data structures.\n",
    "\n",
    "2. **Scalability**: MongoDB scales horizontally to manage large datasets and traffic by distributing data across multiple servers.\n",
    "\n",
    "3. **Replication**: Automatic replication creates data copies on different servers, enhancing availability and fault tolerance.\n",
    "\n",
    "4. **Sharding**: MongoDB's sharding evenly distributes data across machines, enabling efficient scaling and access.\n",
    "\n",
    "5. **Querying and Indexing**: Rich queries, including geospatial and text searches, are supported, with indexing for faster data retrieval.\n",
    "\n",
    "6. **Aggregation Framework**: Complex data transformations, grouping, and calculations are facilitated through MongoDB's aggregation framework.\n",
    "\n",
    "7. **Ad Hoc Queries**: Dynamic query language permits flexible and real-time querying of data.\n",
    "\n",
    "These features collectively make MongoDB suitable for scenarios demanding flexible data handling, scalability, and efficient querying."
   ]
  },
  {
   "cell_type": "markdown",
   "id": "caeb764b-d1ab-4273-b0ce-53cf0febafa6",
   "metadata": {},
   "source": [
    "Q3)"
   ]
  },
  {
   "cell_type": "markdown",
   "id": "a7cee8d2-6452-4d12-84ef-2fbc47e58640",
   "metadata": {},
   "source": [
    "from pymongo import MongoClient\n",
    "\n",
    "\n",
    "client = MongoClient(\"mongodb://localhost:27017/\")\n",
    "\n",
    "\n",
    "db = client[\"mydatabase\"]\n",
    "\n",
    "\n",
    "collection = db[\"mycollection\"]\n",
    "\n",
    "data = {\n",
    "    \"name\": \"John\",\n",
    "    \"age\": 30,\n",
    "    \"city\": \"New York\"\n",
    "}\n",
    "\n",
    "\n",
    "collection.insert_one(data)\n",
    "\n",
    "print(\"Document inserted successfully!\")\n"
   ]
  },
  {
   "cell_type": "markdown",
   "id": "70252d98-4a12-4fdb-ba63-12557490005d",
   "metadata": {},
   "source": [
    "Q4)"
   ]
  },
  {
   "cell_type": "markdown",
   "id": "aec1fca2-de8f-46c4-9729-f90d816ab29f",
   "metadata": {},
   "source": [
    "from pymongo import MongoClient\n",
    "\n",
    "\n",
    "client = MongoClient(\"mongodb://localhost:27017/\")\n",
    "\n",
    "\n",
    "db = client[\"mydatabase\"]\n",
    "\n",
    "collection = db[\"mycollection\"]\n",
    "\n",
    "data_one = {\n",
    "    \"name\": \"Alice\",\n",
    "    \"age\": 25,\n",
    "    \"city\": \"Los Angeles\"\n",
    "}\n",
    "collection.insert_one(data_one)\n",
    "print(\"One document inserted successfully!\")\n",
    "\n",
    "data_many = [\n",
    "    {\n",
    "        \"name\": \"Bob\",\n",
    "        \"age\": 28,\n",
    "        \"city\": \"Chicago\"\n",
    "    },\n",
    "    {\n",
    "        \"name\": \"Eve\",\n",
    "        \"age\": 22,\n",
    "        \"city\": \"San Francisco\"\n",
    "    },\n",
    "    {\n",
    "        \"name\": \"Mallory\",\n",
    "        \"age\": 35,\n",
    "        \"city\": \"Seattle\"\n",
    "    }\n",
    "]\n",
    "collection.insert_many(data_many)\n",
    "print(\"Multiple documents inserted successfully!\")\n",
    "\n",
    "\n",
    "inserted_records = collection.find({})\n",
    "print(\"All inserted records:\")\n",
    "for record in inserted_records:\n",
    "    print(record)\n",
    "\n",
    "\n",
    "one_inserted_record = collection.find_one({\"name\": \"Alice\"})\n",
    "print(\"One inserted record:\")\n",
    "print(one_inserted_record)\n"
   ]
  },
  {
   "cell_type": "markdown",
   "id": "6d7a9cd8-892e-4a0f-a976-f0b32461b4f2",
   "metadata": {},
   "source": [
    "Q5)"
   ]
  },
  {
   "cell_type": "markdown",
   "id": "00338017-a98e-406f-bc36-62529c6c388b",
   "metadata": {},
   "source": [
    "\n",
    "query = {\"city\": \"New York\"}\n",
    "cursor = collection.find(query)\n",
    "\n",
    "for document in cursor:\n",
    "    print(document)\n"
   ]
  },
  {
   "cell_type": "markdown",
   "id": "e0d84dd8-9009-407d-9b50-b55dea006d80",
   "metadata": {},
   "source": [
    "The find() method in MongoDB is used to search for documents that match certain criteria in a collection. You provide a query document containing field-value pairs to specify the criteria. It returns a cursor that you can iterate through to access the matched documents. For instance:"
   ]
  },
  {
   "cell_type": "markdown",
   "id": "35251f4b-08a1-493c-b52f-3da046f00315",
   "metadata": {},
   "source": [
    "Q6)"
   ]
  },
  {
   "cell_type": "markdown",
   "id": "e71dae83-9d16-4c1c-8749-97dc33f9d1fe",
   "metadata": {},
   "source": [
    "\n",
    "sort_criteria = [(\"age\", 1), (\"name\", -1)]  \n",
    "cursor = collection.find().sort(sort_criteria)\n",
    "\n",
    "for document in cursor:\n",
    "    print(document)\n"
   ]
  },
  {
   "cell_type": "markdown",
   "id": "6f78ac02-aca9-4591-b9ac-3f6174c1b4cc",
   "metadata": {},
   "source": [
    "The sort() method in MongoDB is used to specify the order in which documents should be retrieved from a collection. You provide a sorting criteria that defines which fields to sort by and whether the order is ascending (1) or descending (-1)."
   ]
  },
  {
   "cell_type": "markdown",
   "id": "6f79b660-4896-4f2f-b6cf-399a8f42d5f5",
   "metadata": {},
   "source": [
    "Q7)"
   ]
  }
 ],
 "metadata": {
  "kernelspec": {
   "display_name": "Python 3 (ipykernel)",
   "language": "python",
   "name": "python3"
  },
  "language_info": {
   "codemirror_mode": {
    "name": "ipython",
    "version": 3
   },
   "file_extension": ".py",
   "mimetype": "text/x-python",
   "name": "python",
   "nbconvert_exporter": "python",
   "pygments_lexer": "ipython3",
   "version": "3.10.8"
  }
 },
 "nbformat": 4,
 "nbformat_minor": 5
}
