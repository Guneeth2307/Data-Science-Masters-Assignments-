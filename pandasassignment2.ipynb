{
 "cells": [
  {
   "cell_type": "markdown",
   "id": "57307368-3ccd-428c-a5f4-d7a98fc77a98",
   "metadata": {},
   "source": [
    "                                            Pandas Assignment-2"
   ]
  },
  {
   "cell_type": "code",
   "execution_count": null,
   "id": "87c64ae3-c325-4855-b4c3-57952a4744cb",
   "metadata": {},
   "outputs": [],
   "source": []
  },
  {
   "cell_type": "code",
   "execution_count": null,
   "id": "29fe74e6-674b-42c1-9721-722d11bdf464",
   "metadata": {},
   "outputs": [],
   "source": []
  },
  {
   "cell_type": "markdown",
   "id": "4ecf0841-012e-4d54-875c-3eadd63cf4bf",
   "metadata": {},
   "source": [
    "Q1)"
   ]
  },
  {
   "cell_type": "markdown",
   "id": "6b048763-11e0-4955-a228-7449f285150e",
   "metadata": {},
   "source": [
    "Certainly! Pandas is a popular Python library for data manipulation and analysis. Here are five common functions provided by pandas along with their execution examples:\n",
    "\n",
    "1. **`pandas.DataFrame()`**: This function is used to create a DataFrame, which is a 2-dimensional, size-mutable, and potentially heterogeneous tabular data structure with labeled axes (rows and columns).\n",
    "\n",
    "```python\n",
    "import pandas as pd\n",
    "\n",
    "data = {'Name': ['Alice', 'Bob', 'Charlie'],\n",
    "        'Age': [25, 30, 35]}\n",
    "\n",
    "df = pd.DataFrame(data)\n",
    "print(df)\n",
    "```\n",
    "\n",
    "2. **`df.head(n)`**: This function is used to display the first `n` rows of a DataFrame. It is helpful for quickly inspecting the data.\n",
    "\n",
    "```python\n",
    "import pandas as pd\n",
    "\n",
    "data = {'Name': ['Alice', 'Bob', 'Charlie'],\n",
    "        'Age': [25, 30, 35]}\n",
    "\n",
    "df = pd.DataFrame(data)\n",
    "print(df.head(2))\n",
    "```\n",
    "\n",
    "3. **`df.describe()`**: This function generates descriptive statistics of the DataFrame, providing information like count, mean, standard deviation, minimum, and maximum values for each numeric column.\n",
    "\n",
    "```python\n",
    "import pandas as pd\n",
    "\n",
    "data = {'Age': [25, 30, 35, 28, 32, 27]}\n",
    "df = pd.DataFrame(data)\n",
    "print(df.describe())\n",
    "```\n",
    "\n",
    "4. **`df.groupby()`**: This function is used to group data based on one or more columns. It's often used in combination with aggregation functions like `sum()`, `mean()`, or `count()`.\n",
    "\n",
    "```python\n",
    "import pandas as pd\n",
    "\n",
    "data = {'City': ['New York', 'Los Angeles', 'New York', 'Chicago'],\n",
    "        'Population': [8.4, 3.9, 8.4, 2.7]}\n",
    "\n",
    "df = pd.DataFrame(data)\n",
    "grouped = df.groupby('City')['Population'].sum()\n",
    "print(grouped)\n",
    "```\n",
    "\n",
    "5. **`df.plot()`**: This function allows you to create basic plots and visualizations directly from a DataFrame. It's often used in combination with libraries like Matplotlib for data visualization.\n",
    "\n",
    "```python\n",
    "import pandas as pd\n",
    "import matplotlib.pyplot as plt\n",
    "\n",
    "data = {'Year': [2010, 2015, 2020, 2025],\n",
    "        'GDP (in trillions)': [14.6, 17.4, 21.3, 26.0]}\n",
    "\n",
    "df = pd.DataFrame(data)\n",
    "df.plot(x='Year', y='GDP (in trillions)', kind='line')\n",
    "plt.xlabel('Year')\n",
    "plt.ylabel('GDP (in trillions)')\n",
    "plt.title('GDP Growth Over Time')\n",
    "plt.show()\n",
    "```\n",
    "\n",
    "These are just a few of the many functions that pandas provides for data manipulation and analysis. Pandas is a powerful tool for data handling and is widely used in data science and data analysis tasks."
   ]
  },
  {
   "cell_type": "markdown",
   "id": "37866a59-4980-4f1c-b9f0-01c9325fd8eb",
   "metadata": {},
   "source": [
    "Q2)"
   ]
  },
  {
   "cell_type": "code",
   "execution_count": 1,
   "id": "09546ff8-8dbc-42b9-86ae-ce8dcf38780d",
   "metadata": {},
   "outputs": [
    {
     "name": "stdout",
     "output_type": "stream",
     "text": [
      "    A   B    C\n",
      "1  10  50   90\n",
      "3  20  60  100\n",
      "5  30  70  110\n",
      "7  40  80  120\n"
     ]
    }
   ],
   "source": [
    "import pandas as pd\n",
    "\n",
    "def reindex_with_increment(df):\n",
    "    # Create a new index using a range starting from 1 and incrementing by 2\n",
    "    new_index = pd.RangeIndex(start=1, stop=1 + 2 * len(df), step=2)\n",
    "    \n",
    "    # Set the new index to the DataFrame\n",
    "    df = df.set_index(new_index)\n",
    "    \n",
    "    return df\n",
    "\n",
    "# Example usage:\n",
    "data = {'A': [10, 20, 30, 40],\n",
    "        'B': [50, 60, 70, 80],\n",
    "        'C': [90, 100, 110, 120]}\n",
    "\n",
    "df = pd.DataFrame(data)\n",
    "\n",
    "new_df = reindex_with_increment(df)\n",
    "print(new_df)\n"
   ]
  },
  {
   "cell_type": "markdown",
   "id": "1d076b3d-a3b3-4375-9578-1b2e4e7526be",
   "metadata": {},
   "source": [
    "Q3)"
   ]
  },
  {
   "cell_type": "code",
   "execution_count": 2,
   "id": "e100f19b-53c9-4acc-848f-a88ba32747e1",
   "metadata": {},
   "outputs": [
    {
     "name": "stdout",
     "output_type": "stream",
     "text": [
      "Sum of the first three values: 60\n"
     ]
    }
   ],
   "source": [
    "import pandas as pd\n",
    "\n",
    "def sum_first_three_values(df):\n",
    "    total = 0\n",
    "    for i, row in df.iterrows():\n",
    "        if i < 3:  # Only consider the first three rows\n",
    "            total += row['Values']\n",
    "    \n",
    "    print(\"Sum of the first three values:\", total)\n",
    "\n",
    "# Example usage:\n",
    "data = {'Values': [10, 20, 30, 40, 50, 60]}\n",
    "df = pd.DataFrame(data)\n",
    "\n",
    "sum_first_three_values(df)\n"
   ]
  },
  {
   "cell_type": "markdown",
   "id": "15832b6a-e642-48f3-b4bc-5de537e2efd5",
   "metadata": {},
   "source": [
    "Q4)"
   ]
  },
  {
   "cell_type": "code",
   "execution_count": 3,
   "id": "a3d57333-ac12-4bd6-a6c4-8e526b50b017",
   "metadata": {},
   "outputs": [
    {
     "name": "stdout",
     "output_type": "stream",
     "text": [
      "                         Text  Word_Count\n",
      "0  This is a sample sentence.           5\n",
      "1            Another example.           2\n",
      "2            Pandas is great.           3\n"
     ]
    }
   ],
   "source": [
    "import pandas as pd\n",
    "\n",
    "def count_words(text):\n",
    "    # Split the text by spaces to count words\n",
    "    words = text.split()\n",
    "    return len(words)\n",
    "\n",
    "def add_word_count_column(df):\n",
    "    # Create a new column 'Word_Count' by applying the count_words function to each row\n",
    "    df['Word_Count'] = df['Text'].apply(count_words)\n",
    "\n",
    "# Example usage:\n",
    "data = {'Text': [\"This is a sample sentence.\", \"Another example.\", \"Pandas is great.\"]}\n",
    "df = pd.DataFrame(data)\n",
    "\n",
    "add_word_count_column(df)\n",
    "print(df)\n"
   ]
  },
  {
   "cell_type": "markdown",
   "id": "4245df65-eb70-41f7-b1e7-3a495ecb3c49",
   "metadata": {},
   "source": [
    "Q5)"
   ]
  },
  {
   "cell_type": "markdown",
   "id": "6411d46b-91a5-44ac-9369-e21f5db1bb51",
   "metadata": {},
   "source": [
    "DataFrame.size:\n",
    "\n",
    "DataFrame.size returns the total number of elements (cells) in the DataFrame, which is the product of the number of rows and the number of columns.\n",
    "\n",
    "\n",
    "DataFrame.shape:\n",
    "\n",
    "DataFrame.shape returns a tuple that contains the number of rows and the number of columns in the DataFrame.\n",
    "\n",
    "\n",
    "\n",
    "\n"
   ]
  },
  {
   "cell_type": "markdown",
   "id": "f634f72c-a363-4b34-a0d3-2e170ceeca44",
   "metadata": {},
   "source": [
    "Q6)"
   ]
  },
  {
   "cell_type": "markdown",
   "id": "809278e1-0c18-484b-b891-e74747d818be",
   "metadata": {},
   "source": [
    "To read an Excel file in Pandas, you can use the pandas.read_excel() function. This function is part of the Pandas library and is used to read data from Excel files (both .xls and .xlsx formats) and create a DataFrame. "
   ]
  },
  {
   "cell_type": "markdown",
   "id": "1547b87e-5d59-4a68-b97d-04a738de793e",
   "metadata": {},
   "source": [
    "Q7)"
   ]
  },
  {
   "cell_type": "code",
   "execution_count": 3,
   "id": "72ed2be2-545f-45e5-b331-9477871a32ae",
   "metadata": {},
   "outputs": [
    {
     "name": "stdout",
     "output_type": "stream",
     "text": [
      "               Email Username\n",
      "0  user1@example.com    user1\n",
      "1  user2@example.org    user2\n",
      "2  user3@example.net    user3\n"
     ]
    }
   ],
   "source": [
    "import pandas as pd\n",
    "\n",
    "def extract_username(df):\n",
    "    # Split the 'Email' column at the '@' symbol and select the first part\n",
    "    df['Username'] = df['Email'].str.split('@').str[0]\n",
    "\n",
    "# Example usage:\n",
    "data = {'Email': ['user1@example.com', 'user2@example.org', 'user3@example.net']}\n",
    "df = pd.DataFrame(data)\n",
    "\n",
    "extract_username(df)\n",
    "print(df)\n"
   ]
  },
  {
   "cell_type": "markdown",
   "id": "fcd3d1b9-b2a5-4749-b47d-f6ed97ecf204",
   "metadata": {},
   "source": [
    "Q8)"
   ]
  },
  {
   "cell_type": "code",
   "execution_count": 4,
   "id": "6fa7c67e-e53c-4022-9d7a-b9a2fd85e57e",
   "metadata": {},
   "outputs": [
    {
     "name": "stdout",
     "output_type": "stream",
     "text": [
      "   A  B  C\n",
      "1  8  2  7\n",
      "2  6  9  4\n",
      "4  9  1  2\n"
     ]
    }
   ],
   "source": [
    "import pandas as pd\n",
    "\n",
    "def select_rows(df):\n",
    "    selected_rows = df[(df['A'] > 5) & (df['B'] < 10)]\n",
    "    return selected_rows\n",
    "\n",
    "# Example usage:\n",
    "data = {'A': [3, 8, 6, 2, 9],\n",
    "        'B': [5, 2, 9, 3, 1],\n",
    "        'C': [1, 7, 4, 5, 2]}\n",
    "\n",
    "df = pd.DataFrame(data)\n",
    "\n",
    "selected_df = select_rows(df)\n",
    "print(selected_df)\n"
   ]
  },
  {
   "cell_type": "markdown",
   "id": "0dad5992-0f35-455a-a756-f6ca36d757c6",
   "metadata": {},
   "source": [
    "Q9)"
   ]
  },
  {
   "cell_type": "code",
   "execution_count": 5,
   "id": "34711333-c67f-4bc7-8a61-f8834133787c",
   "metadata": {},
   "outputs": [
    {
     "name": "stdout",
     "output_type": "stream",
     "text": [
      "Mean: 30.0\n",
      "Median: 30.0\n",
      "Standard Deviation: 15.811388300841896\n"
     ]
    }
   ],
   "source": [
    "import pandas as pd\n",
    "\n",
    "def calculate_statistics(df):\n",
    "    # Calculate mean, median, and standard deviation\n",
    "    mean_value = df['Values'].mean()\n",
    "    median_value = df['Values'].median()\n",
    "    std_deviation = df['Values'].std()\n",
    "    \n",
    "    return mean_value, median_value, std_deviation\n",
    "\n",
    "# Example usage:\n",
    "data = {'Values': [10, 20, 30, 40, 50]}\n",
    "df = pd.DataFrame(data)\n",
    "\n",
    "mean, median, std = calculate_statistics(df)\n",
    "print(f\"Mean: {mean}\")\n",
    "print(f\"Median: {median}\")\n",
    "print(f\"Standard Deviation: {std}\")\n"
   ]
  },
  {
   "cell_type": "markdown",
   "id": "310acf9c-42ef-4874-a67b-63b2fbd2f292",
   "metadata": {},
   "source": [
    "Q10)"
   ]
  },
  {
   "cell_type": "code",
   "execution_count": 1,
   "id": "a4a6991a-8db4-43b0-a447-8792b8fd6ef9",
   "metadata": {},
   "outputs": [],
   "source": [
    "import pandas as pd\n",
    "\n",
    "def calculate_moving_average(df):\n",
    "    df['MovingAverage'] = df['Sales'].rolling(window=7, min_periods=1).mean()\n",
    "    return df\n",
    "\n",
    "# Example usage:\n",
    "# Assuming df is your DataFrame with 'Sales' and 'Date' columns\n",
    "# Make sure your 'Date' column is in datetime format\n",
    "# df['Date'] = pd.to_datetime(df['Date'])\n",
    "# Call the function to calculate the moving average\n",
    "# df = calculate_moving_average(df)\n"
   ]
  },
  {
   "cell_type": "markdown",
   "id": "1b2dbb28-9804-45a1-8fa7-a08b5473955b",
   "metadata": {},
   "source": [
    "Q11)"
   ]
  },
  {
   "cell_type": "code",
   "execution_count": 2,
   "id": "df57b8b9-f3c7-4609-bb1d-78a4f416d3a5",
   "metadata": {},
   "outputs": [],
   "source": [
    "import pandas as pd\n",
    "\n",
    "def calculate_moving_average(df):\n",
    "    df['MovingAverage'] = df['Sales'].rolling(window=7, min_periods=1).mean()\n",
    "    return df\n",
    "\n",
    "# Example usage:\n",
    "# Assuming df is your DataFrame with 'Sales' and 'Date' columns\n",
    "# Make sure your 'Date' column is in datetime format\n",
    "# df['Date'] = pd.to_datetime(df['Date'])\n",
    "# Call the function to calculate the moving average\n",
    "# df = calculate_moving_average(df)\n"
   ]
  },
  {
   "cell_type": "markdown",
   "id": "fcb0ef8e-dd31-400b-80c7-a80cf9b86022",
   "metadata": {},
   "source": [
    "Q12)"
   ]
  },
  {
   "cell_type": "code",
   "execution_count": 3,
   "id": "d47dbcc3-20c0-4646-a9d8-8928f8bf294a",
   "metadata": {},
   "outputs": [],
   "source": [
    "import pandas as pd\n",
    "\n",
    "def select_rows_in_date_range(df):\n",
    "    # Convert the date column to datetime if it's not already\n",
    "    if not pd.api.types.is_datetime64_ns_dtype(df['Date']):\n",
    "        df['Date'] = pd.to_datetime(df['Date'])\n",
    "\n",
    "    # Define the start and end dates for the range\n",
    "    start_date = pd.Timestamp('2023-01-01')\n",
    "    end_date = pd.Timestamp('2023-01-31')\n",
    "\n",
    "    # Use boolean indexing to select rows within the date range\n",
    "    selected_rows = df[(df['Date'] >= start_date) & (df['Date'] <= end_date)]\n",
    "\n",
    "    return selected_rows\n",
    "\n",
    "# Example usage:\n",
    "# Assuming df is your DataFrame with 'Date' column\n",
    "# Make sure your 'Date' column is in datetime format\n",
    "# df['Date'] = pd.to_datetime(df['Date'])\n",
    "# Call the function to select rows within the date range\n",
    "# selected_df = select_rows_in_date_range(df)\n"
   ]
  },
  {
   "cell_type": "markdown",
   "id": "4559274a-85c9-45dc-9014-3e398f5f582e",
   "metadata": {},
   "source": [
    "Q13)"
   ]
  },
  {
   "cell_type": "markdown",
   "id": "83ec3d03-8bdc-4a14-8730-bcbcdc093d1c",
   "metadata": {},
   "source": [
    "To use the basic functions of Pandas, the first and foremost library you need to import is, of course, Pandas itself. "
   ]
  },
  {
   "cell_type": "code",
   "execution_count": null,
   "id": "b3214416-a593-4389-8cb5-32891f962a60",
   "metadata": {},
   "outputs": [],
   "source": []
  }
 ],
 "metadata": {
  "kernelspec": {
   "display_name": "Python 3 (ipykernel)",
   "language": "python",
   "name": "python3"
  },
  "language_info": {
   "codemirror_mode": {
    "name": "ipython",
    "version": 3
   },
   "file_extension": ".py",
   "mimetype": "text/x-python",
   "name": "python",
   "nbconvert_exporter": "python",
   "pygments_lexer": "ipython3",
   "version": "3.10.8"
  }
 },
 "nbformat": 4,
 "nbformat_minor": 5
}
