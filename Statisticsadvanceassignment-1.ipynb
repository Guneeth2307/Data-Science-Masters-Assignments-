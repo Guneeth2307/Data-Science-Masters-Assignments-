{
 "cells": [
  {
   "cell_type": "markdown",
   "id": "8b886da6-9204-4bdc-a22b-aab321600435",
   "metadata": {},
   "source": [
    "                                              Statistics advance assignment-1"
   ]
  },
  {
   "cell_type": "markdown",
   "id": "728abb71-42e0-4ea2-b924-82e7853a54cc",
   "metadata": {},
   "source": [
    "Q1)"
   ]
  },
  {
   "cell_type": "markdown",
   "id": "6d2ccae5-c4ab-4ddc-9b18-598221363734",
   "metadata": {},
   "source": [
    "The Probability Density Function (PDF) is a concept in probability theory and statistics that describes the likelihood of a continuous random variable taking on a particular value. For a continuous random variable, the probability of it assuming any specific value is technically zero, since there are infinitely many possible values within any given range. Instead of assigning probabilities to individual values, the PDF gives the probability density at each point.\n",
    "\n",
    "Mathematically, the probability density function \\(f(x)\\) for a continuous random variable \\(X\\) is defined such that the probability of \\(X\\) lying in a given interval \\([a, b]\\) is given by the integral of the PDF over that interval:\n",
    "\n",
    "\\[P(a \\leq X \\leq b) = \\int_{a}^{b} f(x) \\,dx\\]\n",
    "\n",
    "The PDF must satisfy two conditions:\n",
    "\n",
    "1. The function \\(f(x)\\) must be non-negative for all \\(x\\).\n",
    "2. The total area under the curve of the PDF over the entire range of possible values must be equal to 1.\n",
    "\n",
    "In summary, the PDF provides a way to model the probability distribution of a continuous random variable, and it helps in understanding the likelihood of different outcomes within the variable's possible range."
   ]
  },
  {
   "cell_type": "markdown",
   "id": "fa8556ed-4a50-4e84-b04b-9ceaab789d86",
   "metadata": {},
   "source": [
    "Q2)"
   ]
  },
  {
   "cell_type": "markdown",
   "id": "ddffbf7b-affa-4634-a9e3-dbdce9b2632e",
   "metadata": {},
   "source": [
    "There are several types of probability distributions, and they can be broadly classified into two main categories: discrete probability distributions and continuous probability distributions.\n",
    "\n",
    "1. **Discrete Probability Distributions:**\n",
    "   - **Bernoulli Distribution:** Describes a random experiment with only two possible outcomes, usually labeled as success and failure (e.g., a coin flip).\n",
    "   - **Binomial Distribution:** Represents the number of successes in a fixed number of independent Bernoulli trials.\n",
    "   - **Poisson Distribution:** Models the number of events that occur in a fixed interval of time or space, given the average rate of occurrence.\n",
    "\n",
    "2. **Continuous Probability Distributions:**\n",
    "   - **Uniform Distribution:** Every outcome in the sample space is equally likely (e.g., a fair die).\n",
    "   - **Normal Distribution (Gaussian Distribution):** Characterized by a bell-shaped curve and is completely defined by its mean and standard deviation.\n",
    "   - **Exponential Distribution:** Models the time between events in a Poisson process, where events occur continuously and independently at a constant average rate.\n",
    "   - **Gamma Distribution:** Generalizes the exponential distribution to model the time until a specified number of events occur.\n",
    "   - **Beta Distribution:** Often used to model the distribution of random variables limited to intervals (e.g., probabilities).\n",
    "\n",
    "3. **Joint Probability Distributions:**\n",
    "   - **Multinomial Distribution:** An extension of the binomial distribution to more than two categories.\n",
    "   - **Multivariate Normal Distribution:** Generalization of the normal distribution to multiple dimensions.\n",
    "\n",
    "These are just a few examples, and there are many other probability distributions used in various fields such as statistics, physics, finance, and engineering. The choice of distribution depends on the nature of the data and the assumptions made about the underlying process."
   ]
  },
  {
   "cell_type": "markdown",
   "id": "ffa81d73-1cef-4623-9b3a-4cd3db74a952",
   "metadata": {},
   "source": [
    "Q3)"
   ]
  },
  {
   "cell_type": "code",
   "execution_count": 1,
   "id": "a7e086c6-e081-4bd7-a418-119a473afbb7",
   "metadata": {},
   "outputs": [
    {
     "name": "stdout",
     "output_type": "stream",
     "text": [
      "The PDF at 1.5 is: 0.12951759566589174\n"
     ]
    }
   ],
   "source": [
    "import math\n",
    "\n",
    "def normal_pdf(x, mean, std_dev):\n",
    "    \"\"\"\n",
    "    Calculate the probability density function of a normal distribution at a given point.\n",
    "\n",
    "    Parameters:\n",
    "    - x: The point at which to calculate the PDF.\n",
    "    - mean: The mean of the normal distribution.\n",
    "    - std_dev: The standard deviation of the normal distribution.\n",
    "\n",
    "    Returns:\n",
    "    The PDF value at the given point.\n",
    "    \"\"\"\n",
    "    if std_dev <= 0:\n",
    "        raise ValueError(\"Standard deviation must be a positive number.\")\n",
    "\n",
    "    coefficient = 1 / (std_dev * math.sqrt(2 * math.pi))\n",
    "    exponent = -((x - mean) ** 2) / (2 * std_dev ** 2)\n",
    "    pdf_value = coefficient * math.exp(exponent)\n",
    "    return pdf_value\n",
    "\n",
    "# Example usage:\n",
    "mean_value = 0\n",
    "std_dev_value = 1\n",
    "point = 1.5\n",
    "\n",
    "try:\n",
    "    pdf_at_point = normal_pdf(point, mean_value, std_dev_value)\n",
    "    print(f\"The PDF at {point} is: {pdf_at_point}\")\n",
    "except ValueError as e:\n",
    "    print(f\"Error: {e}\")\n"
   ]
  },
  {
   "cell_type": "markdown",
   "id": "3e036865-96d9-448c-aacb-a7e2227df1ce",
   "metadata": {},
   "source": [
    "Q4)"
   ]
  },
  {
   "cell_type": "markdown",
   "id": "44f6d155-6601-4064-9076-7a1b40cd69e1",
   "metadata": {},
   "source": [
    "The binomial distribution is a discrete probability distribution that describes the number of successes in a fixed number of independent and identical Bernoulli trials, where each trial has only two possible outcomes: success or failure. The key properties of the binomial distribution include:\n",
    "\n",
    "1. **Fixed Number of Trials (n):** The number of trials (experiments) is fixed in advance.\n",
    "\n",
    "2. **Independent Trials:** The outcomes of each trial are independent of each other.\n",
    "\n",
    "3. **Two Possible Outcomes:** Each trial results in one of two outcomes, often labeled as success (S) and failure (F).\n",
    "\n",
    "4. **Constant Probability of Success (p):** The probability of success (denoted as \\(p\\)) is the same for each trial.\n",
    "\n",
    "5. **Discreteness:** The random variable representing the number of successes is discrete.\n",
    "\n",
    "The probability mass function (PMF) of the binomial distribution is given by:\n",
    "\n",
    "\\[ P(X = k) = \\binom{n}{k} \\cdot p^k \\cdot (1 - p)^{n-k} \\]\n",
    "\n",
    "where:\n",
    "- \\( n \\) is the number of trials,\n",
    "- \\( k \\) is the number of successes,\n",
    "- \\( p \\) is the probability of success on a single trial,\n",
    "- \\( \\binom{n}{k} \\) is the binomial coefficient, representing the number of ways to choose \\( k \\) successes from \\( n \\) trials.\n",
    "\n",
    "Examples of events where the binomial distribution can be applied include:\n",
    "\n",
    "1. **Coin Flips:** Suppose you flip a fair coin (where the probability of getting heads is \\(p\\) and tails is \\(1-p\\)) 10 times. The number of heads obtained follows a binomial distribution.\n",
    "\n",
    "2. **Manufacturing Defects:** In a manufacturing process, a certain percentage of items produced may be defective. If you randomly select a sample of items, the number of defective items in the sample can be modeled using a binomial distribution, assuming the probability of a defect is constant for each item produced."
   ]
  },
  {
   "cell_type": "markdown",
   "id": "8b3f3858-5ac5-4451-849a-9edbef5ca6f4",
   "metadata": {},
   "source": [
    "Q5)"
   ]
  },
  {
   "cell_type": "code",
   "execution_count": 3,
   "id": "673c175f-743d-4909-b76f-13435661596a",
   "metadata": {},
   "outputs": [
    {
     "data": {
      "image/png": "[encoded data removed]",
      "text/plain": [
       "<Figure size 640x480 with 1 Axes>"
      ]
     },
     "metadata": {},
     "output_type": "display_data"
    }
   ],
   "source": [
    "import numpy as np\n",
    "import matplotlib.pyplot as plt\n",
    "\n",
    "# Set the seed for reproducibility\n",
    "np.random.seed(42)\n",
    "\n",
    "# Generate a random sample from a binomial distribution\n",
    "sample_size = 1000\n",
    "probability_of_success = 0.4\n",
    "random_sample = np.random.binomial(1, probability_of_success, size=sample_size)\n",
    "\n",
    "# Plot the histogram\n",
    "plt.hist(random_sample, bins=np.arange(-0.5, 2, 1), edgecolor='black')\n",
    "plt.title('Binomial Distribution - Random Sample')\n",
    "plt.xlabel('Number of Successes (0 or 1)')\n",
    "plt.ylabel('Frequency')\n",
    "plt.xticks([0, 1], ['Failure', 'Success'])\n",
    "plt.show()\n"
   ]
  },
  {
   "cell_type": "markdown",
   "id": "267ab18e-e17d-491a-a18a-877fd95b051a",
   "metadata": {},
   "source": [
    "Q6)"
   ]
  },
  {
   "cell_type": "code",
   "execution_count": 5,
   "id": "cd7b6246-4fb8-416a-acce-66358ed388ae",
   "metadata": {},
   "outputs": [
    {
     "data": {
      "image/png": "[encoded data removed]",
      "text/plain": [
       "<Figure size 640x480 with 1 Axes>"
      ]
     },
     "metadata": {},
     "output_type": "display_data"
    }
   ],
   "source": [
    "import numpy as np\n",
    "import matplotlib.pyplot as plt\n",
    "\n",
    "# Set the seed for reproducibility\n",
    "np.random.seed(42)\n",
    "\n",
    "# Generate a random sample from a binomial distribution\n",
    "sample_size = 1000\n",
    "probability_of_success = 0.4\n",
    "random_sample = np.random.binomial(1, probability_of_success, size=sample_size)\n",
    "\n",
    "# Plot the histogram\n",
    "plt.hist(random_sample, bins=np.arange(-0.5, 2, 1), edgecolor='black')\n",
    "plt.title('Binomial Distribution - Random Sample')\n",
    "plt.xlabel('Number of Successes (0 or 1)')\n",
    "plt.ylabel('Frequency')\n",
    "plt.xticks([0, 1], ['Failure', 'Success'])\n",
    "plt.show()\n"
   ]
  },
  {
   "cell_type": "markdown",
   "id": "01307f1b-ed11-46ea-b939-fbf89777eb01",
   "metadata": {},
   "source": [
    "Q7)"
   ]
  },
  {
   "cell_type": "markdown",
   "id": "b0001b2f-4b97-4a8e-9e28-51541fbf853e",
   "metadata": {},
   "source": [
    "The Binomial distribution and Poisson distribution are both probability distributions used in statistics, but they have distinct characteristics and are applicable in different situations. Here are the key differences between the Binomial distribution and the Poisson distribution:\n",
    "\n",
    "1. **Number of Trials:**\n",
    "   - **Binomial Distribution:** Represents the number of successes in a fixed number (\\(n\\)) of independent and identical Bernoulli trials, where each trial has only two possible outcomes (success or failure).\n",
    "   - **Poisson Distribution:** Models the number of events that occur in a fixed interval of time or space, given a constant average rate of occurrence.\n",
    "\n",
    "2. **Nature of Outcomes:**\n",
    "   - **Binomial Distribution:** The outcomes of each trial are binary (success or failure).\n",
    "   - **Poisson Distribution:** The outcomes represent counts of events occurring in a continuous or discrete interval.\n",
    "\n",
    "3. **Conditions:**\n",
    "   - **Binomial Distribution:** Assumes a fixed number of trials, independence between trials, constant probability of success (\\(p\\)), and a binary outcome.\n",
    "   - **Poisson Distribution:** Assumes events occur randomly and independently, but it doesn't specify a fixed number of trials. It is often used in situations where the number of trials is large, and the probability of success is small.\n",
    "\n",
    "4. **Parameterization:**\n",
    "   - **Binomial Distribution:** Defined by two parameters - the number of trials (\\(n\\)) and the probability of success on each trial (\\(p\\)).\n",
    "   - **Poisson Distribution:** Defined by one parameter - the average rate of events (\\(\\lambda\\)), which represents the mean and variance of the distribution.\n",
    "\n",
    "5. **Distribution Shape:**\n",
    "   - **Binomial Distribution:** Discrete and symmetric if \\(p = 0.5\\), otherwise, it may be skewed.\n",
    "   - **Poisson Distribution:** Discrete and typically right-skewed.\n",
    "\n",
    "6. **Applicability:**\n",
    "   - **Binomial Distribution:** Suitable for situations with a fixed number of trials, such as the number of successes in a sequence of coin flips or the number of defective items in a sample.\n",
    "   - **Poisson Distribution:** Appropriate for modeling rare events where the average rate of occurrence is known, such as the number of phone calls received at a call center in a given minute.\n",
    "\n",
    "In summary, while both distributions deal with counts of events, the Binomial distribution is associated with a fixed number of trials, each with two possible outcomes, whereas the Poisson distribution is used for modeling the number of events in a fixed interval with a constant rate of occurrence."
   ]
  },
  {
   "cell_type": "markdown",
   "id": "d434fcb7-4fb7-44e4-996c-bd4f5e65d7aa",
   "metadata": {},
   "source": [
    "Q8)"
   ]
  },
  {
   "cell_type": "code",
   "execution_count": 6,
   "id": "42b0e51b-d326-4d9f-a0c0-ff1454719a15",
   "metadata": {},
   "outputs": [
    {
     "name": "stdout",
     "output_type": "stream",
     "text": [
      "Sample Mean: 4.985\n",
      "Sample Variance: 4.9967749999999995\n"
     ]
    }
   ],
   "source": [
    "import numpy as np\n",
    "\n",
    "# Set the seed for reproducibility\n",
    "np.random.seed(42)\n",
    "\n",
    "# Generate a random sample from a Poisson distribution with mean 5\n",
    "sample_size = 1000\n",
    "mean_value = 5\n",
    "random_sample = np.random.poisson(mean_value, size=sample_size)\n",
    "\n",
    "# Calculate the sample mean and variance\n",
    "sample_mean = np.mean(random_sample)\n",
    "sample_variance = np.var(random_sample)\n",
    "\n",
    "print(f\"Sample Mean: {sample_mean}\")\n",
    "print(f\"Sample Variance: {sample_variance}\")\n"
   ]
  },
  {
   "cell_type": "markdown",
   "id": "b09a9355-b816-4401-b9e8-0bcd283d79c2",
   "metadata": {},
   "source": [
    "Q9)"
   ]
  },
  {
   "cell_type": "markdown",
   "id": "652b31e6-acbf-4fa5-b504-c4dc5b5f9cd8",
   "metadata": {},
   "source": [
    "In both the Binomial and Poisson distributions, the mean (\\(\\mu\\)) and variance (\\(\\sigma^2\\)) are related, but the nature of this relationship differs between the two distributions.\n",
    "\n",
    "### Binomial Distribution:\n",
    "For a Binomial distribution with parameters \\(n\\) (number of trials) and \\(p\\) (probability of success on a single trial), the mean (\\(\\mu\\)) and variance (\\(\\sigma^2\\)) are related by the following formulas:\n",
    "\n",
    "\\[ \\mu = np \\]\n",
    "\n",
    "\\[ \\sigma^2 = np(1 - p) \\]\n",
    "\n",
    "Here, the variance is directly proportional to both the number of trials (\\(n\\)) and the probability of success (\\(p\\)). As \\(p\\) approaches 0 or 1, the variance tends to decrease.\n",
    "\n",
    "### Poisson Distribution:\n",
    "For a Poisson distribution with parameter \\(\\lambda\\) (average rate of events), the mean (\\(\\mu\\)) and variance (\\(\\sigma^2\\)) are both equal to \\(\\lambda\\):\n",
    "\n",
    "\\[ \\mu = \\lambda \\]\n",
    "\n",
    "\\[ \\sigma^2 = \\lambda \\]\n",
    "\n",
    "In the Poisson distribution, the mean and variance are equal, and they are solely determined by the average rate of events (\\(\\lambda\\)). This relationship indicates that the spread of the distribution is solely determined by the average rate, and as \\(\\lambda\\) increases, both the mean and variance increase proportionally.\n",
    "\n",
    "In summary:\n",
    "- In the Binomial distribution, the variance depends on both the number of trials and the probability of success.\n",
    "- In the Poisson distribution, the variance is solely determined by the average rate of events.\n",
    "\n",
    "It's worth noting that in situations where the number of trials in a Binomial distribution is large and the probability of success is small (resulting in a small \\(\\lambda = np\\)), the Poisson distribution can be used as an approximation, and the mean and variance relationship becomes more similar to that of the Poisson distribution."
   ]
  },
  {
   "cell_type": "markdown",
   "id": "c6030dc0-5759-46d1-8f94-1975a4169141",
   "metadata": {},
   "source": [
    "Q10)"
   ]
  },
  {
   "cell_type": "markdown",
   "id": "1261a410-00dd-4c8c-93c6-7bf989c24810",
   "metadata": {},
   "source": [
    "In a normal distribution, also known as a Gaussian distribution or a bell curve, the least frequent data appears in the tails of the distribution, farthest from the mean. The normal distribution is symmetric, and its shape is characterized by the probability density being highest at the mean and gradually decreasing as you move away from the mean in both directions.\n",
    "\n",
    "The normal distribution is often described in terms of standard deviations (\\(\\sigma\\)) from the mean (\\(\\mu\\)). The data points in the tails, beyond one standard deviation from the mean, are less frequent. The probability density decreases exponentially as you move further away from the mean.\n",
    "\n",
    "Specifically:\n",
    "- About 68% of the data falls within one standard deviation of the mean.\n",
    "- About 95% falls within two standard deviations.\n",
    "- About 99.7% falls within three standard deviations.\n",
    "\n",
    "So, the least frequent data points are those that are several standard deviations away from the mean, in the tails of the distribution. These extreme values are less likely to occur in a normal distribution."
   ]
  },
  {
   "cell_type": "code",
   "execution_count": null,
   "id": "d8b3638b-d463-476b-8c51-36c2fd958a21",
   "metadata": {},
   "outputs": [],
   "source": []
  }
 ],
 "metadata": {
  "kernelspec": {
   "display_name": "Python 3 (ipykernel)",
   "language": "python",
   "name": "python3"
  },
  "language_info": {
   "codemirror_mode": {
    "name": "ipython",
    "version": 3
   },
   "file_extension": ".py",
   "mimetype": "text/x-python",
   "name": "python",
   "nbconvert_exporter": "python",
   "pygments_lexer": "ipython3",
   "version": "3.10.8"
  }
 },
 "nbformat": 4,
 "nbformat_minor": 5
}
