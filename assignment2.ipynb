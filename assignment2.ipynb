{
 "cells": [
  {
   "cell_type": "markdown",
   "id": "77097a85-2259-4913-b71f-e43aec0f856c",
   "metadata": {},
   "source": [
    "                                                ASSIGNMENT-2\n",
    "\n"
   ]
  },
  {
   "cell_type": "markdown",
   "id": "4cf61d26-58ab-4ca2-8348-16c64f034c9e",
   "metadata": {},
   "source": [
    "Q1)"
   ]
  },
  {
   "cell_type": "markdown",
   "id": "e8f2ab79-588f-4099-a4a8-4c5c4a3d1ad2",
   "metadata": {},
   "source": [
    "Single-line comments: These comments are used for adding explanations on a single line.\n"
   ]
  },
  {
   "cell_type": "code",
   "execution_count": null,
   "id": "7a89d4e1-7259-4a72-89ba-b30073b1d09b",
   "metadata": {},
   "outputs": [],
   "source": [
    "# This is a single-line comment\n"
   ]
  },
  {
   "cell_type": "markdown",
   "id": "5ce98ec4-fab3-4fa0-bf7e-3e12f707ee12",
   "metadata": {},
   "source": [
    "Multi-line comments: These comments are used for adding explanations in multiple lines."
   ]
  },
  {
   "cell_type": "code",
   "execution_count": null,
   "id": "4b1c5510-e3ea-4461-b295-ad858a17340f",
   "metadata": {},
   "outputs": [],
   "source": [
    "\"\"\"\n",
    "This is a multi-line comment \n",
    "It can be used to make multiline comments\n",
    "\"\"\"\n"
   ]
  },
  {
   "cell_type": "markdown",
   "id": "5eea7635-d2a8-4a76-b4e0-b3a640dc05b6",
   "metadata": {},
   "source": [
    "Q2)"
   ]
  },
  {
   "cell_type": "markdown",
   "id": "b8bc26eb-70fa-4497-adef-82951fec1332",
   "metadata": {},
   "source": [
    "variables are used to store and manage data in python"
   ]
  },
  {
   "cell_type": "code",
   "execution_count": 3,
   "id": "c86838ee-da97-4c3d-862b-70c85efa4507",
   "metadata": {},
   "outputs": [],
   "source": [
    "# Variable declaration and assignment\n",
    "variable_name = 23\n",
    "\n",
    "# Examples\n",
    "name = \"Alice\"           # A string variable\n",
    "age = 25                 # An integer variable\n",
    "pi = 3.14159             # A floating-point variable\n",
    "is_student = True        # A boolean variable\n"
   ]
  },
  {
   "cell_type": "markdown",
   "id": "1fc13097-894e-41b3-b5c0-ea9a79383d83",
   "metadata": {},
   "source": [
    "Q3)"
   ]
  },
  {
   "cell_type": "markdown",
   "id": "1d8d4bc2-5a36-4006-ba0b-7812d0a72dcd",
   "metadata": {},
   "source": [
    "With the help of typecasting  we can convert one datatype into another "
   ]
  },
  {
   "cell_type": "markdown",
   "id": "a5d9b16e-b32f-438e-b676-c7a97c0645c7",
   "metadata": {},
   "source": [
    "ex: int to string"
   ]
  },
  {
   "cell_type": "code",
   "execution_count": 1,
   "id": "1375fb54-e163-4856-834d-8900548fa7db",
   "metadata": {},
   "outputs": [
    {
     "data": {
      "text/plain": [
       "int"
      ]
     },
     "execution_count": 1,
     "metadata": {},
     "output_type": "execute_result"
    }
   ],
   "source": [
    "a=5\n",
    "type(a)"
   ]
  },
  {
   "cell_type": "code",
   "execution_count": 2,
   "id": "49d84bc9-30bc-4893-8626-8189519472ce",
   "metadata": {},
   "outputs": [
    {
     "data": {
      "text/plain": [
       "'5'"
      ]
     },
     "execution_count": 2,
     "metadata": {},
     "output_type": "execute_result"
    }
   ],
   "source": [
    "str(a)"
   ]
  },
  {
   "cell_type": "code",
   "execution_count": 4,
   "id": "65648343-9367-4eb4-8859-43514f804c51",
   "metadata": {},
   "outputs": [
    {
     "data": {
      "text/plain": [
       "str"
      ]
     },
     "execution_count": 4,
     "metadata": {},
     "output_type": "execute_result"
    }
   ],
   "source": [
    "type(str(a))"
   ]
  },
  {
   "cell_type": "markdown",
   "id": "80df75cf-80d7-4b3f-a641-997ce08f8fdd",
   "metadata": {},
   "source": [
    "Q4)"
   ]
  },
  {
   "cell_type": "markdown",
   "id": "c44fdd0e-7a2e-4f2e-9b95-32cf04b81f9f",
   "metadata": {},
   "source": [
    "You need to open a command line and type the word python followed by the path to your script file like this: python first_script.py Hello World! Then you hit the ENTER button from the keyboard, and that's it."
   ]
  },
  {
   "cell_type": "markdown",
   "id": "344290c3-81a4-4b1d-b10c-de0e28ff9f6a",
   "metadata": {},
   "source": [
    "Q5)"
   ]
  },
  {
   "cell_type": "code",
   "execution_count": 5,
   "id": "f541ae96-3e23-4fe3-8632-db5a2da50fcd",
   "metadata": {},
   "outputs": [],
   "source": [
    "l1=[1,2,3,4,5]"
   ]
  },
  {
   "cell_type": "code",
   "execution_count": 8,
   "id": "d300e312-a9d8-4537-bb11-cb698bf79724",
   "metadata": {},
   "outputs": [
    {
     "data": {
      "text/plain": [
       "[2, 3]"
      ]
     },
     "execution_count": 8,
     "metadata": {},
     "output_type": "execute_result"
    }
   ],
   "source": [
    "l1[1:3]"
   ]
  },
  {
   "cell_type": "markdown",
   "id": "b2a10464-aa6d-4a32-8d73-442c8783e86b",
   "metadata": {},
   "source": [
    "Q6)"
   ]
  },
  {
   "cell_type": "markdown",
   "id": "131b01d4-4e41-4d16-aa94-f060f25b2a36",
   "metadata": {},
   "source": [
    "complex number is a number which contains both imaginary and real parts"
   ]
  },
  {
   "cell_type": "code",
   "execution_count": 9,
   "id": "40377f41-0cb8-48ff-9ec0-8287ea531b4d",
   "metadata": {},
   "outputs": [],
   "source": [
    "z1=complex(2,3)"
   ]
  },
  {
   "cell_type": "code",
   "execution_count": 10,
   "id": "d540a750-7831-4aaf-81bd-15bcf22b6ec2",
   "metadata": {},
   "outputs": [
    {
     "data": {
      "text/plain": [
       "(2+3j)"
      ]
     },
     "execution_count": 10,
     "metadata": {},
     "output_type": "execute_result"
    }
   ],
   "source": [
    "z1"
   ]
  },
  {
   "cell_type": "markdown",
   "id": "458acda5-b2b0-413e-bf16-8b3c7a89cf61",
   "metadata": {},
   "source": [
    "Q7)"
   ]
  },
  {
   "cell_type": "code",
   "execution_count": 12,
   "id": "3740bb32-0681-4bc4-99ac-e5ab5479056a",
   "metadata": {},
   "outputs": [],
   "source": [
    "age=25"
   ]
  },
  {
   "cell_type": "code",
   "execution_count": 13,
   "id": "170850d8-65aa-4d67-8597-0b416c35e8f4",
   "metadata": {},
   "outputs": [
    {
     "data": {
      "text/plain": [
       "25"
      ]
     },
     "execution_count": 13,
     "metadata": {},
     "output_type": "execute_result"
    }
   ],
   "source": [
    "age"
   ]
  },
  {
   "cell_type": "markdown",
   "id": "cf0a0660-bb24-4d44-af74-25cdb9580833",
   "metadata": {},
   "source": [
    "Q8)"
   ]
  },
  {
   "cell_type": "code",
   "execution_count": 14,
   "id": "6772d1be-6129-4c90-b893-e921f75a5dce",
   "metadata": {},
   "outputs": [],
   "source": [
    "price=9.99"
   ]
  },
  {
   "cell_type": "markdown",
   "id": "46eb29d2-37e9-4fe2-9764-35c2da1de20f",
   "metadata": {},
   "source": [
    "price value belongs to the datatype float"
   ]
  },
  {
   "cell_type": "code",
   "execution_count": 15,
   "id": "73e01d6b-230d-4fad-b3c7-b042abe54c25",
   "metadata": {},
   "outputs": [
    {
     "data": {
      "text/plain": [
       "float"
      ]
     },
     "execution_count": 15,
     "metadata": {},
     "output_type": "execute_result"
    }
   ],
   "source": [
    "type(price)"
   ]
  },
  {
   "cell_type": "markdown",
   "id": "b8078409-0581-4d0b-a3be-e7332ebb209c",
   "metadata": {},
   "source": [
    "Q9)"
   ]
  },
  {
   "cell_type": "code",
   "execution_count": 17,
   "id": "7b210310-0072-49ae-b5fd-90659cc78cb9",
   "metadata": {},
   "outputs": [],
   "source": [
    "name=\"Palakurthy Guneeth\""
   ]
  },
  {
   "cell_type": "code",
   "execution_count": 18,
   "id": "5f2c72de-8fa8-45fc-99dc-cf21c2412422",
   "metadata": {},
   "outputs": [
    {
     "name": "stdout",
     "output_type": "stream",
     "text": [
      "Palakurthy Guneeth\n"
     ]
    }
   ],
   "source": [
    "print(name)"
   ]
  },
  {
   "cell_type": "markdown",
   "id": "2ca8ba87-2518-40a5-aa1e-4679341acdd1",
   "metadata": {},
   "source": [
    "Q10)"
   ]
  },
  {
   "cell_type": "code",
   "execution_count": 19,
   "id": "a1e07e0a-8e75-4452-957e-3ee9c2ecc9bb",
   "metadata": {},
   "outputs": [],
   "source": [
    "string1=\"Hello, World!\""
   ]
  },
  {
   "cell_type": "code",
   "execution_count": 24,
   "id": "57ba0f39-585d-463d-acbc-acc9bf5fd257",
   "metadata": {},
   "outputs": [
    {
     "name": "stdout",
     "output_type": "stream",
     "text": [
      "World\n"
     ]
    }
   ],
   "source": [
    "print(string1[7:12])"
   ]
  },
  {
   "cell_type": "markdown",
   "id": "cb0132ab-d162-4574-b304-23f8bd2aa739",
   "metadata": {},
   "source": [
    "Q11)"
   ]
  },
  {
   "cell_type": "code",
   "execution_count": 25,
   "id": "2f7e3d84-cdb8-4ae9-942a-f1eee1cc4850",
   "metadata": {},
   "outputs": [],
   "source": [
    "is_student = True \n"
   ]
  },
  {
   "cell_type": "code",
   "execution_count": null,
   "id": "6395c20c-15e0-4290-9623-4b221d1f5c65",
   "metadata": {},
   "outputs": [],
   "source": []
  }
 ],
 "metadata": {
  "kernelspec": {
   "display_name": "Python 3 (ipykernel)",
   "language": "python",
   "name": "python3"
  },
  "language_info": {
   "codemirror_mode": {
    "name": "ipython",
    "version": 3
   },
   "file_extension": ".py",
   "mimetype": "text/x-python",
   "name": "python",
   "nbconvert_exporter": "python",
   "pygments_lexer": "ipython3",
   "version": "3.10.8"
  }
 },
 "nbformat": 4,
 "nbformat_minor": 5
}
