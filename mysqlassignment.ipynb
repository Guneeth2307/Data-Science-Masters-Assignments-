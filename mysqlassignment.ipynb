{
 "cells": [
  {
   "cell_type": "markdown",
   "id": "893c78ae-0cd7-4355-941f-86d65983b370",
   "metadata": {},
   "source": [
    "                                                  ASSIGNMENT-11"
   ]
  },
  {
   "cell_type": "markdown",
   "id": "1c3f3db8-e3ae-428f-a6dc-cb31b8911f09",
   "metadata": {},
   "source": [
    "Q1)"
   ]
  },
  {
   "cell_type": "markdown",
   "id": "53c6f692-c589-4a87-bb7a-f0020fc986f3",
   "metadata": {},
   "source": [
    "A database is organized data storage. SQL databases use structured tables with a fixed schema and are good for complex queries. NoSQL databases offer flexible storage, great scalability, but with less strict consistency."
   ]
  },
  {
   "cell_type": "markdown",
   "id": "fe23a569-761e-4486-b467-a73d70732351",
   "metadata": {},
   "source": [
    "Q2)"
   ]
  },
  {
   "cell_type": "markdown",
   "id": "c152e9c2-9390-4232-a116-e0086556016d",
   "metadata": {},
   "source": [
    "DDL stands for Data Definition Language. It's a subset of SQL (Structured Query Language) that focuses on defining and managing the structure and organization of a database\n",
    "\n",
    "- **CREATE:** Makes new objects (e.g., tables).\n",
    "   Example: `CREATE TABLE Students (ID INT, Name VARCHAR(50));`\n",
    "\n",
    "- **DROP:** Deletes objects (e.g., tables).\n",
    "   Example: `DROP TABLE Students;`\n",
    "\n",
    "- **ALTER:** Modifies objects (e.g., adds columns).\n",
    "   Example: `ALTER TABLE Students ADD Age INT;`\n",
    "\n",
    "- **TRUNCATE:** Clears all rows in a table.\n",
    "   Example: `TRUNCATE TABLE Students;`"
   ]
  },
  {
   "cell_type": "markdown",
   "id": "ded9b82b-1bf8-40cd-ace4-aff2ed8ffe3e",
   "metadata": {},
   "source": [
    "Q3)"
   ]
  },
  {
   "cell_type": "markdown",
   "id": "43c7231c-b836-4480-9616-f1c03b1228e0",
   "metadata": {},
   "source": [
    "\n",
    "DML stands for Data Manipulation Language, a subset of SQL (Structured Query Language) used to interact with and manipulate data within a database. DML statements include operations like inserting, updating, and deleting data in database tables.\n",
    "DML (Data Manipulation Language) in SQL:\n",
    "\n",
    "INSERT: Adds new data.\n",
    "Example: INSERT INTO Students (Name, Age) VALUES ('Alice', 25);\n",
    "\n",
    "UPDATE: Modifies existing data.\n",
    "Example: UPDATE Students SET Age = 26 WHERE Name = 'Alice';\n",
    "\n",
    "DELETE: Removes data.\n",
    "Example: DELETE FROM Students WHERE Age > 30;"
   ]
  },
  {
   "cell_type": "markdown",
   "id": "3a3d8ca2-0f2b-4cb0-9a28-8b3e146d4aed",
   "metadata": {},
   "source": [
    "Q4)"
   ]
  },
  {
   "cell_type": "markdown",
   "id": "3f8ee875-37be-48dd-be28-2dbb122dfa87",
   "metadata": {},
   "source": [
    "DQL (Data Query Language) focuses on retrieving data. \n",
    "\n",
    "**SELECT:** Retrieves specific data from a table based on conditions.\n",
    "\n",
    "Example: `SELECT FirstName, LastName FROM Customers WHERE Age >= 18;` \n",
    "\n",
    "This retrieves first and last names of customers aged 18 or older from the \"Customers\" table."
   ]
  },
  {
   "cell_type": "markdown",
   "id": "e48b0b9a-7671-4faa-9cd9-05abafa1402b",
   "metadata": {},
   "source": [
    "Q5)"
   ]
  },
  {
   "cell_type": "markdown",
   "id": "2d40200e-962e-4562-9b36-416fcda54222",
   "metadata": {},
   "source": [
    "**Primary Key:** A primary key is a unique identifier for a record in a database table. It ensures each row has a distinct identity and enforces data integrity. It helps uniquely identify records and is used to establish relationships with other tables.\n",
    "\n",
    "**Foreign Key:** A foreign key is a field in one table that references the primary key in another table. It creates a link between tables, enforcing referential integrity. It's used to maintain relationships between related data across different tables."
   ]
  },
  {
   "cell_type": "markdown",
   "id": "aa8fa152-4f39-45fe-aaa2-fd2240035c4f",
   "metadata": {},
   "source": [
    "Q6)"
   ]
  },
  {
   "cell_type": "markdown",
   "id": "6d4edfe0-b3e8-4a27-a4cb-205cbba77509",
   "metadata": {},
   "source": [
    "import mysql.connector\n",
    "\n",
    " Establish the connection\n",
    "connection = mysql.connector.connect(\n",
    "    host=\"localhost\",\n",
    "    user=\"username\",\n",
    "    password=\"password\",\n",
    "    database=\"dbname\"\n",
    ")\n",
    "\n",
    "\n",
    "\n",
    "1. **`cursor()`**: This method creates a cursor object, which acts as a pointer that helps you interact with a database. It allows you to execute SQL queries and manage their results.\n",
    "\n",
    "2. **`execute(query)`**: This method is used with a cursor object to send an SQL query to the database for execution. It's commonly used to perform actions like selecting, inserting, updating, or deleting data.\n",
    "\n",
    "In essence, the cursor is like a tool that lets you talk to the database, and the execute method is how you actually send your messages (queries) to the database using that tool."
   ]
  },
  {
   "cell_type": "markdown",
   "id": "1a865a12-cb2e-4ca6-a4d8-34a6dc889207",
   "metadata": {},
   "source": [
    "Q7)"
   ]
  },
  {
   "cell_type": "markdown",
   "id": "dfba89d0-a1d2-4387-bb4f-ffa163e7fce6",
   "metadata": {},
   "source": [
    "Certainly:\n",
    "\n",
    "1. **FROM**: Specifies the source table(s) for data retrieval.\n",
    "2. **JOIN**: Combines tables based on relationships.\n",
    "3. **WHERE**: Filters rows based on conditions.\n",
    "4. **GROUP BY**: Groups rows for aggregate calculations.\n",
    "5. **HAVING**: Filters grouped data with conditions.\n",
    "6. **SELECT**: Chooses columns to retrieve.\n",
    "7. **ORDER BY**: Sorts the selected rows.\n",
    "8. **LIMIT / OFFSET**: Restricts and skips rows.\n",
    "9. **UNION / INTERSECT / EXCEPT**: Combines or compares result sets."
   ]
  },
  {
   "cell_type": "code",
   "execution_count": null,
   "id": "253d5e5f-859d-41e2-b699-3152feda9c57",
   "metadata": {},
   "outputs": [],
   "source": []
  }
 ],
 "metadata": {
  "kernelspec": {
   "display_name": "Python 3 (ipykernel)",
   "language": "python",
   "name": "python3"
  },
  "language_info": {
   "codemirror_mode": {
    "name": "ipython",
    "version": 3
   },
   "file_extension": ".py",
   "mimetype": "text/x-python",
   "name": "python",
   "nbconvert_exporter": "python",
   "pygments_lexer": "ipython3",
   "version": "3.10.8"
  }
 },
 "nbformat": 4,
 "nbformat_minor": 5
}
