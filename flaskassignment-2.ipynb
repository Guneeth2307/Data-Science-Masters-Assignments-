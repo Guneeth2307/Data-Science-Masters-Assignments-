{
 "cells": [
  {
   "cell_type": "markdown",
   "id": "e4096cc1-0ca3-4b25-b2c9-22432c458dc9",
   "metadata": {},
   "source": [
    "                                                     ASSIGNMENT-15"
   ]
  },
  {
   "cell_type": "markdown",
   "id": "5fc16f90-2d29-439f-a979-a7b26590f713",
   "metadata": {},
   "source": [
    "Q1)"
   ]
  },
  {
   "cell_type": "markdown",
   "id": "555c1030-1c6a-4638-bca3-4c9afd1acde8",
   "metadata": {},
   "source": [
    "Certainly:\n",
    "\n",
    "**GET Method:**\n",
    "- Used to request data from a server.\n",
    "- Data is appended in the URL as query parameters.\n",
    "- Visible in the URL.\n",
    "- Idempotent: Repeating the request doesn't change server state.\n",
    "\n",
    "**POST Method:**\n",
    "- Used to send data to a server.\n",
    "- Data is included in the request body.\n",
    "- Not visible in the URL.\n",
    "- Non-idempotent: Repeating the request may change server state."
   ]
  },
  {
   "cell_type": "markdown",
   "id": "8725d35c-aab5-400c-9923-7eb764eac100",
   "metadata": {},
   "source": [
    "Q2)"
   ]
  },
  {
   "cell_type": "markdown",
   "id": "2660145d-cdab-425d-bf60-03a588e29afb",
   "metadata": {},
   "source": [
    "In Flask, the \"request\" is an object that holds information about incoming requests made to a web server. It allows you to access data sent by clients, like form inputs or query parameters. This data helps in processing requests, authenticating users, and generating responses tailored to client needs. It's a key component for building interactive web applications using Flask."
   ]
  },
  {
   "cell_type": "markdown",
   "id": "788e18c4-6d3d-49d5-910d-0f77b016a555",
   "metadata": {},
   "source": [
    "Q3)"
   ]
  },
  {
   "cell_type": "markdown",
   "id": "60cbb520-cfbf-4d83-80f2-1762e48d4f30",
   "metadata": {},
   "source": [
    "In Flask, `redirect()` is used to send users to a different URL. It's helpful after actions like form submission, login, or when changing URLs. It improves user experience by guiding them to the right page after specific events."
   ]
  },
  {
   "cell_type": "markdown",
   "id": "e41fd85c-400e-4b88-823c-6f1facb614fa",
   "metadata": {},
   "source": [
    "Q4)"
   ]
  },
  {
   "cell_type": "markdown",
   "id": "72ee7c7c-bbb2-47e7-868b-7a4cbf8a33e7",
   "metadata": {},
   "source": [
    "Templates in Flask are HTML files with placeholders for dynamic content. They're used to separate logic from presentation. The `render_template()` function in Flask processes these templates, filling placeholders with data, and generates dynamic HTML pages to be sent as responses to client requests. This enhances code organization and customization in web applications."
   ]
  },
  {
   "cell_type": "code",
   "execution_count": null,
   "id": "da413758-6ee3-4b6e-8602-c9d0f1a6564f",
   "metadata": {},
   "outputs": [],
   "source": []
  }
 ],
 "metadata": {
  "kernelspec": {
   "display_name": "Python 3 (ipykernel)",
   "language": "python",
   "name": "python3"
  },
  "language_info": {
   "codemirror_mode": {
    "name": "ipython",
    "version": 3
   },
   "file_extension": ".py",
   "mimetype": "text/x-python",
   "name": "python",
   "nbconvert_exporter": "python",
   "pygments_lexer": "ipython3",
   "version": "3.10.8"
  }
 },
 "nbformat": 4,
 "nbformat_minor": 5
}
