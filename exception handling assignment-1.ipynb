{
 "cells": [
  {
   "cell_type": "code",
   "execution_count": null,
   "id": "b3b47f9f-119d-4d97-b2ee-cd1494e92ed4",
   "metadata": {},
   "outputs": [],
   "source": [
    "                                                       ASSIGNMENT-6"
   ]
  },
  {
   "cell_type": "markdown",
   "id": "0fa39dd7-c738-494d-afef-fa6a4d9c6716",
   "metadata": {},
   "source": [
    "Q1)"
   ]
  },
  {
   "cell_type": "markdown",
   "id": "9bd22674-8990-4107-a2e8-6a30f0fd7af1",
   "metadata": {},
   "source": [
    
    "\n",
    "**Exception in Python:**\n",
    "An exception in Python is an unexpected event that occurs during program execution, disrupting its normal flow.\n",
    "\n",
    "**Difference between Exceptions and Syntax Errors:**\n",
    "\n",
    "1. **Exceptions:** Errors that arise during program execution (runtime). Examples include dividing by zero or accessing a nonexistent dictionary key.\n",
    "2. **Syntax Errors:** Mistakes in the code structure that prevent it from being interpreted correctly, occurring before program execution (parsing stage). Examples are missing colons or unmatched parentheses.\n",
    "\n",
    "In essence, exceptions arise while the code is running, whereas syntax errors prevent the code from running in the first place."
   ]
  },
  {
   "cell_type": "markdown",
   "id": "c75e82c7-a3aa-4e41-a1a1-40018e9e0e3d",
   "metadata": {},
   "source": [
    "Q2)"
   ]
  },
  {
   "cell_type": "markdown",
   "id": "573fbb2a-31c4-4f59-9ea8-aa99bcbd8999",
   "metadata": {},
   "source": [
    "When an exception is not handled, the program halts abruptly, and an error message is displayed. This can lead to an application crash and an undesirable user experience.\n",
    "\n",
    "For example:\n",
    "\n",
    "try:\n",
    "    num = int(input(\"Enter a number: \"))\n",
    "    result = 10 / num\n",
    "except ValueError:\n",
    "    print(\"Invalid input. Please enter a valid number.\")\n",
    "If the user enters 0, which causes a `ZeroDivisionError`, and this error isn't handled, the program will stop with an error message indicating division by zero."
   ]
  },
  {
   "cell_type": "markdown",
   "id": "09467516-e77a-4c3b-b709-6684c1de4817",
   "metadata": {},
   "source": [
    "Q3)"
   ]
  },
  {
   "cell_type": "markdown",
   "id": "1dc0041c-9d9c-4fd0-b8ef-5e9f95a2a61e",
   "metadata": {},
   "source": [
    "Certainly! In Python, you use try and except to handle errors that can happen when running your code.\n",
    "\n",
    "try is where you put the code that might cause an error.\n",
    "except is where you specify what to do if an error occurs in the try block."
   ]
  },
  {
   "cell_type": "code",
   "execution_count": 3,
   "id": "68123049-6ff9-4ba8-9328-db28e79ab75b",
   "metadata": {},
   "outputs": [
    {
     "name": "stdin",
     "output_type": "stream",
     "text": [
      "Enter a number:  0\n"
     ]
    },
    {
     "name": "stdout",
     "output_type": "stream",
     "text": [
      "Can't divide by zero\n"
     ]
    }
   ],
   "source": [
    "try:\n",
    "    num = int(input(\"Enter a number: \"))\n",
    "    result = 10 / num\n",
    "except ZeroDivisionError:\n",
    "    print(\"Can't divide by zero\")\n",
    "except ValueError:\n",
    "    print(\"Not a valid number\")\n",
    "else:\n",
    "    print(\"Result:\", result)\n"
   ]
  },
  {
   "cell_type": "markdown",
   "id": "9d54a6c9-5346-4ea4-97e8-c3822d6578c6",
   "metadata": {},
   "source": [
    "In this example, the code inside try might raise errors. If a ZeroDivisionError happens (dividing by zero) or a ValueError occurs (wrong input), the appropriate except block runs. If no error happens, the else block runs."
   ]
  },
  {
   "cell_type": "markdown",
   "id": "17270fc2-00cd-4e1c-8ab9-84028ee70549",
   "metadata": {},
   "source": [
    "Q4)"
   ]
  },
  {
   "cell_type": "code",
   "execution_count": null,
   "id": "31034efc-a334-41e4-980b-301830de68d9",
   "metadata": {},
   "outputs": [],
   "source": [
    "try is for risky code that might cause errors.\n",
    "except is used to handle those errors if they occur.\n",
    "else is for code that runs when no errors happen in the try block.\n",
    "finally contains code that always runs, regardless of errors."
   ]
  },
  {
   "cell_type": "code",
   "execution_count": 4,
   "id": "35338de7-0640-45c6-83b2-6dd493a1d49d",
   "metadata": {},
   "outputs": [
    {
     "name": "stdin",
     "output_type": "stream",
     "text": [
      "Enter a number:  2\n"
     ]
    },
    {
     "name": "stdout",
     "output_type": "stream",
     "text": [
      "Result: 5.0\n",
      "Execution completed\n"
     ]
    }
   ],
   "source": [
    "try:\n",
    "    num = int(input(\"Enter a number: \"))\n",
    "    result = 10 / num\n",
    "except ZeroDivisionError:\n",
    "    print(\"Error: Cannot divide by zero\")\n",
    "except ValueError:\n",
    "    print(\"Error: Invalid input\")\n",
    "else:\n",
    "    print(\"Result:\", result)\n",
    "finally:\n",
    "    print(\"Execution completed\")\n"
   ]
  },
  {
   "cell_type": "markdown",
   "id": "24203427-bc93-40b3-98eb-0d638074fe58",
   "metadata": {},
   "source": [
    "Q5)"
   ]
  },
  {
   "cell_type": "markdown",
   "id": "3fe30246-a1bd-441d-98e0-0fa87d872285",
   "metadata": {},
   "source": [
    "Definition: Custom exceptions are errors you create in Python to handle specific situations in your code.\n",
    "\n",
    "Why Create Custom Exceptions:\n",
    "\n",
    "Clarity: Provide clearer error messages tailored to your code's context.\n",
    "Organization: Categorize errors into specific exception classes for better code structure.\n",
    "Centralized Handling: Handle related errors consistently and efficiently."
   ]
  },
  {
   "cell_type": "code",
   "execution_count": 5,
   "id": "6dde8963-368d-41f9-b635-606d87bfa720",
   "metadata": {},
   "outputs": [
    {
     "name": "stdout",
     "output_type": "stream",
     "text": [
      "Error: (1000, 1500)\n"
     ]
    }
   ],
   "source": [
    "class WithdrawalError(Exception):\n",
    "    \"\"\"Custom exception for insufficient balance during withdrawal.\"\"\"\n",
    "    \n",
    "    def __init__(self, balance, amount):\n",
    "        self.balance = balance\n",
    "        self.amount = amount\n",
    "        \n",
    "    \n",
    "class BankAccount:\n",
    "    def __init__(self, balance):\n",
    "        self.balance = balance\n",
    "        \n",
    "    def withdraw(self, amount):\n",
    "        if amount > self.balance:\n",
    "            raise WithdrawalError(self.balance, amount)\n",
    "        else:\n",
    "            self.balance -= amount\n",
    "            print(f\"Withdrawal of {amount} successful. New balance: {self.balance}\")\n",
    "\n",
    "try:\n",
    "    account = BankAccount(1000)\n",
    "    account.withdraw(1500)\n",
    "except WithdrawalError as e:\n",
    "    print(\"Error:\", e)\n"
   ]
  },
  {
   "cell_type": "markdown",
   "id": "610e8c63-bc09-491b-954d-1144e2016a3b",
   "metadata": {},
   "source": [
    "Q6)"
   ]
  },
  {
   "cell_type": "code",
   "execution_count": 2,
   "id": "07a1dd81-9329-49c4-ac6b-418ba9e218b4",
   "metadata": {},
   "outputs": [
    {
     "name": "stdout",
     "output_type": "stream",
     "text": [
      "Error: (1000, 1500)\n"
     ]
    }
   ],
   "source": [
    "class WithdrawalError(Exception):\n",
    "    \"\"\"Custom exception for insufficient balance during withdrawal.\"\"\"\n",
    "    \n",
    "    def __init__(self, balance, amount):\n",
    "        self.balance = balance\n",
    "        self.amount = amount\n",
    "        \n",
    "    \n",
    "class BankAccount:\n",
    "    def __init__(self, balance):\n",
    "        self.balance = balance\n",
    "        \n",
    "    def withdraw(self, amount):\n",
    "        if amount > self.balance:\n",
    "            raise WithdrawalError(self.balance, amount)\n",
    "        else:\n",
    "            self.balance -= amount\n",
    "            print(f\"Withdrawal of {amount} successful. New balance: {self.balance}\")\n",
    "\n",
    "try:\n",
    "    account = BankAccount(1000)\n",
    "    account.withdraw(1500)\n",
    "except WithdrawalError as e:\n",
    "    print(\"Error:\", e)\n"
   ]
  },
  {
   "cell_type": "code",
   "execution_count": null,
   "id": "8cecfba6-547f-43cb-abf2-3f89d0101f30",
   "metadata": {},
   "outputs": [],
   "source": []
  }
 ],
 "metadata": {
  "kernelspec": {
   "display_name": "Python 3 (ipykernel)",
   "language": "python",
   "name": "python3"
  },
  "language_info": {
   "codemirror_mode": {
    "name": "ipython",
    "version": 3
   },
   "file_extension": ".py",
   "mimetype": "text/x-python",
   "name": "python",
   "nbconvert_exporter": "python",
   "pygments_lexer": "ipython3",
   "version": "3.10.8"
  }
 },
 "nbformat": 4,
 "nbformat_minor": 5
}
